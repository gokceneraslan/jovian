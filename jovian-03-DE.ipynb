{
 "cells": [
  {
   "cell_type": "markdown",
   "metadata": {},
   "source": [
    "# jovian - 03 Differential Expression"
   ]
  },
  {
   "cell_type": "code",
   "execution_count": null,
   "metadata": {},
   "outputs": [],
   "source": [
    "import scanpy as sc\n",
    "\n",
    "# Plotting\n",
    "import matplotlib\n",
    "import matplotlib.pyplot as plt\n",
    "import matplotlib.ticker as ticker\n",
    "import seaborn as sns\n",
    "\n",
    "# numpy et al.\n",
    "import numpy as np\n",
    "import scipy.sparse as sp\n",
    "import pandas as pd\n",
    "\n",
    "# R integration\n",
    "from rpy2.robjects.packages import importr\n",
    "from rpy2.robjects import pandas2ri, numpy2ri, r\n",
    "from rpy2.robjects.vectors import StrVector, FloatVector, ListVector\n",
    "import rpy2.robjects as ro\n",
    "import anndata2ri\n",
    "\n",
    "from pathlib import Path\n",
    "import math\n",
    "from tqdm.auto import tqdm\n",
    "import warnings\n",
    "import shelve"
   ]
  },
  {
   "cell_type": "code",
   "execution_count": null,
   "metadata": {},
   "outputs": [],
   "source": [
    "%load_ext rpy2.ipython"
   ]
  },
  {
   "cell_type": "code",
   "execution_count": null,
   "metadata": {},
   "outputs": [],
   "source": [
    "sc.set_figure_params(dpi=100, fontsize=12)\n",
    "matplotlib.rcParams['font.sans-serif'] = matplotlib.rcParamsDefault['font.sans-serif']\n",
    "\n",
    "sc.settings.verbosity = 'hint'"
   ]
  },
  {
   "cell_type": "markdown",
   "metadata": {},
   "source": [
    "***"
   ]
  },
  {
   "cell_type": "markdown",
   "metadata": {},
   "source": [
    "## Parameters"
   ]
  },
  {
   "cell_type": "code",
   "execution_count": null,
   "metadata": {},
   "outputs": [],
   "source": [
    "par_de_group = 'leiden'\n",
    "par_de_n_genes = 2000\n",
    "par_de_method = 't-test_overestim_var'\n",
    "\n",
    "par_per_group_de = True\n",
    "par_group_key = 'tissue'\n",
    "\n",
    "par_save_filename_de = 'de-genes.xlsx'\n",
    "par_save_filename_de_group = 'de-genes-%s.xlsx'"
   ]
  },
  {
   "cell_type": "markdown",
   "metadata": {},
   "source": [
    "***"
   ]
  },
  {
   "cell_type": "markdown",
   "metadata": {},
   "source": [
    "## Load the session"
   ]
  },
  {
   "cell_type": "code",
   "execution_count": null,
   "metadata": {},
   "outputs": [],
   "source": [
    "with shelve.open('session.pkl', protocol=4, writeback=False) as db:\n",
    "    for k in db.keys():\n",
    "        globals()[k] = db[k]"
   ]
  },
  {
   "cell_type": "code",
   "execution_count": null,
   "metadata": {},
   "outputs": [],
   "source": [
    "del conf_samples, conf_samples_processed"
   ]
  },
  {
   "cell_type": "markdown",
   "metadata": {},
   "source": [
    "## Read dataset"
   ]
  },
  {
   "cell_type": "code",
   "execution_count": null,
   "metadata": {},
   "outputs": [],
   "source": [
    "adata = sc.read(par_save_filename)\n",
    "adata"
   ]
  },
  {
   "cell_type": "markdown",
   "metadata": {},
   "source": [
    "## Differential expression"
   ]
  },
  {
   "cell_type": "code",
   "execution_count": null,
   "metadata": {},
   "outputs": [],
   "source": [
    "%%time\n",
    "\n",
    "sc.tl.rank_genes_groups(adata, par_de_group, n_genes=par_de_n_genes, method=par_de_method)"
   ]
  },
  {
   "cell_type": "markdown",
   "metadata": {},
   "source": [
    "## Visualization"
   ]
  },
  {
   "cell_type": "code",
   "execution_count": null,
   "metadata": {},
   "outputs": [],
   "source": [
    "umap_point_size = np.maximum(120000/adata.n_obs, 2)"
   ]
  },
  {
   "cell_type": "code",
   "execution_count": null,
   "metadata": {},
   "outputs": [],
   "source": [
    "f, ax = plt.subplots(figsize=(10, 10))\n",
    "sc.pl.umap(adata, color='leiden', legend_loc='on data', legend_fontoutline=3, legend_fontsize=14, legend_fontweight='normal', title='Clusters', ax=ax, show=False, size=umap_point_size);"
   ]
  },
  {
   "cell_type": "code",
   "execution_count": null,
   "metadata": {},
   "outputs": [],
   "source": [
    "sc.pl.rank_genes_groups_dotplot(adata, standard_scale='var', mean_only_expressed=True)"
   ]
  },
  {
   "cell_type": "code",
   "execution_count": null,
   "metadata": {},
   "outputs": [],
   "source": [
    "sc.pl.rank_genes_groups(adata, n_genes=30, ncols=6, fontsize=7, sharey=False)"
   ]
  },
  {
   "cell_type": "markdown",
   "metadata": {},
   "source": [
    "## Cell typing"
   ]
  },
  {
   "cell_type": "code",
   "execution_count": null,
   "metadata": {},
   "outputs": [],
   "source": [
    "def predict_cell_types(adata, use_raw=True, species='mouse', cluster_key='leiden', **kwds):\n",
    "\n",
    "    if species == 'mouse':\n",
    "        ref_names = ['MouseRNAseqData','ImmGenData']\n",
    "    else:\n",
    "        ref_names = ['HumanPrimaryCellAtlasData', 'MonacoImmuneData']\n",
    "    \n",
    "    s = importr('SingleR')\n",
    "    refs = [s.__dict__[ref_name]() for ref_name in ref_names] \n",
    "    ref_genes = StrVector(set.intersection(*[set(r['rownames'](d)) for d in refs]))\n",
    "    ref = r('cbind')(*[r('`[`')(d, ref_genes) for d in refs]) # merge references\n",
    "    \n",
    "    ad = adata.raw if use_raw else adata\n",
    "    obs = adata.obs\n",
    "    \n",
    "    common_genes = sorted(list(set(ad.var_names) & set(ref_genes)))\n",
    "    assert len(common_genes) > 10000, 'Not enough genes overlapping with ref SingleR datasets...'\n",
    "    \n",
    "    ref = r('`[`')(ref, ro.vectors.StrVector(common_genes))\n",
    "\n",
    "    mat = ad[:, common_genes].X.T.copy()\n",
    "\n",
    "    if sp.issparse(mat):\n",
    "        mat = anndata2ri.scipy2ri.py2rpy(sp.csr_matrix(mat))\n",
    "    else:\n",
    "        mat = numpy2ri.py2rpy(mat)\n",
    "\n",
    "    mat = r(\"`rownames<-`\")(mat, ro.vectors.StrVector(ad[:, common_genes].var_names))\n",
    "    mat = r(\"`colnames<-`\")(mat, ro.vectors.StrVector(obs.index)) # TODO: really needed?\n",
    "    clusters = ro.vectors.StrVector(obs[cluster_key].values.tolist())\n",
    "\n",
    "    labels = s.SingleR(test=mat, \n",
    "                       ref=ref, \n",
    "                       labels = r('`$`')(ref, 'label.fine'), # use label.main too\n",
    "                       method='cluster', \n",
    "                       clusters=clusters, **kwds)\n",
    "\n",
    "    labels = pandas2ri.rpy2py(r('as.data.frame')(labels))\n",
    "    \n",
    "    adata.obs['predicted_cell_types'] = ''\n",
    "    for cluster in adata.obs[cluster_key].cat.categories:\n",
    "        adata.obs.loc[adata.obs[cluster_key] == cluster, 'predicted_cell_types'] = labels.loc[cluster]['pruned.labels']\n",
    "     \n",
    "    adata.uns['cell_type_prediction'] = labels['pruned.labels'].to_dict()"
   ]
  },
  {
   "cell_type": "markdown",
   "metadata": {},
   "source": [
    "## Save markers"
   ]
  },
  {
   "cell_type": "code",
   "execution_count": null,
   "metadata": {},
   "outputs": [],
   "source": [
    "def save_markers(adata, filename, group_key='leiden'):\n",
    "\n",
    "    with pd.ExcelWriter(filename) as writer:\n",
    "\n",
    "        for cluster in tqdm(adata.obs[group_key].cat.categories):\n",
    "            marker_df = sc.get.rank_genes_groups_df(adata, cluster)\n",
    "            expr = adata.raw[adata.obs[group_key] == cluster][:, marker_df.names.values].X.A\n",
    "            marker_df['percent_cell_expressed'] = (expr != 0).sum(0) / expr.shape[0]\n",
    "            marker_df['mean_normalized_expression'] = np.ma.array(expr, mask=(expr==0)).mean(0).filled()\n",
    "            \n",
    "            if 'cell_type_prediction' in adata.uns_keys():\n",
    "                sheet_name = f'{cluster} ({adata.uns[\"cell_type_prediction\"][cluster]})'\n",
    "            else:\n",
    "                sheet_name = cluster\n",
    "            marker_df.to_excel(writer, sheet_name=sheet_name, index=False)"
   ]
  },
  {
   "cell_type": "code",
   "execution_count": null,
   "metadata": {},
   "outputs": [],
   "source": [
    "save_markers(adata, par_save_filename_de)"
   ]
  },
  {
   "cell_type": "markdown",
   "metadata": {},
   "source": [
    "## Differential expression per group"
   ]
  },
  {
   "cell_type": "code",
   "execution_count": null,
   "metadata": {},
   "outputs": [],
   "source": [
    "%%time\n",
    "\n",
    "from IPython.core.display import display, HTML\n",
    "sc.settings.verbosity = 0\n",
    "\n",
    "if par_per_group_de:\n",
    "    ascat = pd.Categorical(adata.obs[par_group_key])\n",
    "    for group in tqdm(ascat.categories):\n",
    "        display(HTML(f'<h1>{par_group_key.capitalize()}: {group}</h1>'))\n",
    "\n",
    "        ad = sc.read(par_save_filename_group % group)\n",
    "        sc.tl.rank_genes_groups(ad, par_de_group, n_genes=par_de_n_genes, method=par_de_method)\n",
    "        \n",
    "        f, ax = plt.subplots(figsize=(6, 6))\n",
    "        sc.pl.umap(ad, color='leiden', legend_loc='on data', legend_fontoutline=3, legend_fontsize=14, legend_fontweight='normal', title='Clusters', ax=ax, show=False, size=umap_point_size);\n",
    "        \n",
    "        sc.pl.rank_genes_groups_dotplot(ad, standard_scale='var', mean_only_expressed=True)\n",
    "        sc.pl.rank_genes_groups(ad, n_genes=30, ncols=6, fontsize=7, sharey=False)\n",
    "        \n",
    "        #predict_cell_types(ad, species=par_species)\n",
    "        \n",
    "        f, ax = plt.subplots(figsize=(6, 6))\n",
    "        sc.pl.umap(ad, color='predicted_cell_types', title='Predicted cell types', ax=ax, show=False, size=umap_point_size);\n",
    "        display(f)\n",
    "        \n",
    "        save_markers(ad, par_save_filename_de_group % group)\n",
    "        ad.write(par_save_filename_group % group)"
   ]
  },
  {
   "cell_type": "markdown",
   "metadata": {},
   "source": [
    "## Transfer predicted annotations"
   ]
  },
  {
   "cell_type": "code",
   "execution_count": null,
   "metadata": {},
   "outputs": [],
   "source": [
    "adata.obs['predicted_cell_types'] = ''\n",
    "adata.obs['sample_leiden'] = ''"
   ]
  },
  {
   "cell_type": "code",
   "execution_count": null,
   "metadata": {},
   "outputs": [],
   "source": [
    "for group in adata.obs[par_group_key].astype('category').cat.categories:\n",
    "    ad = sc.read(par_save_filename_group % group)\n",
    "    adata.obs['predicted_cell_types'].update(ad.obs['predicted_cell_types'].astype(str))\n",
    "    adata.obs['sample_leiden'].update(ad.obs['leiden'].astype(str))"
   ]
  },
  {
   "cell_type": "code",
   "execution_count": null,
   "metadata": {},
   "outputs": [],
   "source": [
    "adata.obs"
   ]
  },
  {
   "cell_type": "code",
   "execution_count": null,
   "metadata": {},
   "outputs": [],
   "source": [
    "plt.rcParams['figure.figsize'] = (7, 7)\n",
    "\n",
    "sc.pl.umap(adata, color=['predicted_cell_types', 'sample_name'], wspace=0.3);"
   ]
  },
  {
   "cell_type": "code",
   "execution_count": null,
   "metadata": {},
   "outputs": [],
   "source": [
    "adata.write(par_save_filename)"
   ]
  },
  {
   "cell_type": "markdown",
   "metadata": {},
   "source": [
    "## Serialize session"
   ]
  },
  {
   "cell_type": "code",
   "execution_count": null,
   "metadata": {},
   "outputs": [],
   "source": [
    "k = None\n",
    "var = None\n",
    "\n",
    "with shelve.open('session.pkl', protocol=4) as db:\n",
    "    for k, var in globals().items():\n",
    "        if k.startswith('par_') or k.startswith('conf_'):\n",
    "            print(f'Storing {k}...')\n",
    "            db[k] = var\n",
    "db.close()"
   ]
  }
 ],
 "metadata": {
  "kernelspec": {
   "display_name": "Python 3",
   "language": "python",
   "name": "python3"
  },
  "language_info": {
   "codemirror_mode": {
    "name": "ipython",
    "version": 3
   },
   "file_extension": ".py",
   "mimetype": "text/x-python",
   "name": "python",
   "nbconvert_exporter": "python",
   "pygments_lexer": "ipython3",
   "version": "3.7.3"
  }
 },
 "nbformat": 4,
 "nbformat_minor": 4
}
