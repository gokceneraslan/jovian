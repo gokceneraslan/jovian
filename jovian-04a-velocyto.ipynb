{
 "cells": [
  {
   "cell_type": "markdown",
   "metadata": {},
   "source": [
    "# jovian - 04 Velocyto"
   ]
  },
  {
   "cell_type": "code",
   "execution_count": null,
   "metadata": {},
   "outputs": [],
   "source": [
    "import scanpy as sc\n",
    "import scvelo as scv\n",
    "\n",
    "# Plotting\n",
    "import matplotlib\n",
    "import matplotlib.pyplot as plt\n",
    "import matplotlib.ticker as ticker\n",
    "import seaborn as sns\n",
    "\n",
    "# numpy et al.\n",
    "import numpy as np\n",
    "import scipy.sparse as sp\n",
    "import pandas as pd\n",
    "\n",
    "# R integration\n",
    "from rpy2.robjects.packages import importr\n",
    "from rpy2.robjects import pandas2ri, numpy2ri, r\n",
    "import rpy2.robjects as ro\n",
    "import anndata2ri\n",
    "\n",
    "from pathlib import Path\n",
    "import math\n",
    "from tqdm.auto import tqdm\n",
    "import warnings"
   ]
  },
  {
   "cell_type": "code",
   "execution_count": null,
   "metadata": {},
   "outputs": [],
   "source": [
    "%load_ext rpy2.ipython"
   ]
  },
  {
   "cell_type": "code",
   "execution_count": null,
   "metadata": {},
   "outputs": [],
   "source": [
    "sc.set_figure_params(dpi=100, fontsize=12)\n",
    "matplotlib.rcParams['font.sans-serif'] = matplotlib.rcParamsDefault['font.sans-serif']\n",
    "\n",
    "sc.settings.verbosity = 'hint'"
   ]
  },
  {
   "cell_type": "code",
   "execution_count": null,
   "metadata": {},
   "outputs": [],
   "source": [
    "plt.rcParams['figure.figsize'] = (7, 7)"
   ]
  },
  {
   "cell_type": "markdown",
   "metadata": {},
   "source": [
    "## Parameters"
   ]
  },
  {
   "cell_type": "markdown",
   "metadata": {},
   "source": [
    "## Read processed AnnData"
   ]
  },
  {
   "cell_type": "code",
   "execution_count": null,
   "metadata": {},
   "outputs": [],
   "source": [
    "adata = sc.read('adata-velocyto.h5ad')\n",
    "adata"
   ]
  },
  {
   "cell_type": "code",
   "execution_count": null,
   "metadata": {},
   "outputs": [],
   "source": [
    "adata.var_names.str.startswith('Mir').sum()"
   ]
  },
  {
   "cell_type": "markdown",
   "metadata": {},
   "source": [
    "## Transfer manual annotations "
   ]
  },
  {
   "cell_type": "code",
   "execution_count": null,
   "metadata": {},
   "outputs": [],
   "source": [
    "labels = []\n",
    "for p in ('P1', 'P7', 'P21'):\n",
    "    df = pd.read_excel('metadata/cell-annotations.xlsx', sheet_name=p)[['Unnamed: 0', 'Consolidated cell type']]\n",
    "    df['Consolidated cell type'] = [x.strip() for x in df['Consolidated cell type']]\n",
    "    #df.Remove = [x.strip() for x in df.Remove]\n",
    "    df.rename(columns={'Unnamed: 0': 'sample_leiden',\n",
    "                       'Consolidated cell type': 'Cell type'}, inplace=True)\n",
    "    df.sample_leiden = [x.split()[1] for x in df.sample_leiden]\n",
    "    labels.append(df.assign(postnatal_age=int(p[1:])))\n",
    "labels = pd.concat(labels, 0)\n",
    "\n",
    "labels"
   ]
  },
  {
   "cell_type": "code",
   "execution_count": null,
   "metadata": {},
   "outputs": [],
   "source": [
    "#adata.obs.drop(['Consolidated cell type'], axis=1, inplace=True)"
   ]
  },
  {
   "cell_type": "code",
   "execution_count": null,
   "metadata": {},
   "outputs": [],
   "source": [
    "#del adata.uns['Cell type_colors']"
   ]
  },
  {
   "cell_type": "code",
   "execution_count": null,
   "metadata": {},
   "outputs": [],
   "source": [
    "adata.obs = adata.obs.merge(labels, how='left', on=['sample_leiden', 'postnatal_age']).set_index(adata.obs.index)"
   ]
  },
  {
   "cell_type": "code",
   "execution_count": null,
   "metadata": {},
   "outputs": [],
   "source": [
    "adata.obs"
   ]
  },
  {
   "cell_type": "code",
   "execution_count": null,
   "metadata": {},
   "outputs": [],
   "source": [
    "adata.write('adata-velocyto.h5ad')"
   ]
  },
  {
   "cell_type": "markdown",
   "metadata": {},
   "source": [
    "labels = pd.read_csv('metadata/cell-type-annotations.csv', index_col=0)\n",
    "new_ind = []\n",
    "for l in labels.index:\n",
    "    barcode, sample = l.split('-')\n",
    "    new_ind.append(f'{sample}:{barcode}x-{sample}')\n",
    "labels.index = new_ind\n",
    "labels.head()"
   ]
  },
  {
   "cell_type": "code",
   "execution_count": null,
   "metadata": {},
   "outputs": [],
   "source": [
    "#adata.obs = adata.obs.join(labels)"
   ]
  },
  {
   "cell_type": "code",
   "execution_count": null,
   "metadata": {},
   "outputs": [],
   "source": [
    "sc.pl.umap(adata, color='Cell type', size=1)"
   ]
  },
  {
   "cell_type": "code",
   "execution_count": null,
   "metadata": {},
   "outputs": [],
   "source": [
    "sc.pl.dotplot(adata, var_names=adata.var_names[adata.var_names.str.startswith('Mir')], groupby='Cell type', standard_scale='var', mean_only_expressed=True)"
   ]
  },
  {
   "cell_type": "code",
   "execution_count": null,
   "metadata": {},
   "outputs": [],
   "source": [
    "sc.pl.umap(adata, color=['Mir9-3hg', 'Mir703', 'Mir142hg'], cmap='Reds', ncols=5, vmax='p95')"
   ]
  },
  {
   "cell_type": "code",
   "execution_count": null,
   "metadata": {},
   "outputs": [],
   "source": [
    "sc.pl.umap(adata, color=['Mir124-2hg', 'Mir124a-1hg', '2900055J20Rik', 'Snhg11', 'Syt1', \n",
    "                         'Gabra1', 'Cx3cl1', 'Slc12a5', 'Slc17a7', 'Adcy1'], cmap='Reds', ncols=5, vmax='p95')"
   ]
  },
  {
   "cell_type": "code",
   "execution_count": null,
   "metadata": {},
   "outputs": [],
   "source": [
    "from sklearn.covariance import GraphicalLassoCV"
   ]
  },
  {
   "cell_type": "code",
   "execution_count": null,
   "metadata": {},
   "outputs": [],
   "source": [
    "%%time\n",
    "\n",
    "model = GraphicalLassoCV(verbose=True, cv=5)\n",
    "model.fit(adata.X.A)"
   ]
  },
  {
   "cell_type": "code",
   "execution_count": null,
   "metadata": {},
   "outputs": [],
   "source": [
    "import scipy\n",
    "\n",
    "m = sorted(list(set(adata.var_names[adata.var.highly_variable].tolist()) | set(['Mir9-3hg', 'Mir703', 'Mir124-2hg', 'Mir124a-1hg', 'Mir142hg'])))\n",
    "ad = adata[:, m]\n",
    "ad._inplace_subset_obs((ad.X.sum(1)>0).A1)\n",
    "rho, p = scipy.stats.spearmanr(ad[:, m].X.A)"
   ]
  },
  {
   "cell_type": "code",
   "execution_count": null,
   "metadata": {},
   "outputs": [],
   "source": [
    "m_df = pd.DataFrame(rho, index=m, columns=m)[['Mir9-3hg', 'Mir703', 'Mir124-2hg', 'Mir124a-1hg', 'Mir142hg']]\n",
    "p_df = pd.DataFrame(p, index=m, columns=m)[['Mir9-3hg', 'Mir703', 'Mir124-2hg', 'Mir124a-1hg', 'Mir142hg']]"
   ]
  },
  {
   "cell_type": "code",
   "execution_count": null,
   "metadata": {},
   "outputs": [],
   "source": [
    "m_df.sort_values('Mir124a-1hg', ascending=False).head(30)"
   ]
  },
  {
   "cell_type": "code",
   "execution_count": null,
   "metadata": {},
   "outputs": [],
   "source": [
    "sc.pl.umap(adata, color=['sample_name', 'predicted_sex', 'leiden'], size=1, ncols=4)"
   ]
  },
  {
   "cell_type": "markdown",
   "metadata": {},
   "source": [
    "## Velocyto"
   ]
  },
  {
   "cell_type": "code",
   "execution_count": null,
   "metadata": {},
   "outputs": [],
   "source": [
    "adata.X = adata.layers['count']"
   ]
  },
  {
   "cell_type": "code",
   "execution_count": null,
   "metadata": {},
   "outputs": [],
   "source": [
    "scv.pp.filter_and_normalize(adata)\n",
    "adata"
   ]
  },
  {
   "cell_type": "markdown",
   "metadata": {},
   "source": [
    "## Add markers back to matrix"
   ]
  },
  {
   "cell_type": "code",
   "execution_count": null,
   "metadata": {},
   "outputs": [],
   "source": [
    "important_markers = sorted(set(list('''\n",
    "C1qc Sirt2 Meg3 Pdgfra Gfap Cldn5 C1qb Cnp Gad1 Pcp4 Olig1 Slc1a3 Vwa1 C1qa Mbp Nap1l5 Syt1 Pllp Gstm1 Ctla2a Ctss \n",
    "Slc17a7 Htra1 Sparc Hexb Grin2b Atp1a2 Fcer1g Neurod2 Tyrobp Neurod6 Fcrls Satb2 Fezf2\n",
    "'''.split())))"
   ]
  },
  {
   "cell_type": "code",
   "execution_count": null,
   "metadata": {},
   "outputs": [],
   "source": [
    "hvg_and_markers = sorted(set(list(adata.var_names[adata.var.highly_variable].tolist() + important_markers)))"
   ]
  },
  {
   "cell_type": "code",
   "execution_count": null,
   "metadata": {},
   "outputs": [],
   "source": [
    "adata = adata[:, hvg_and_markers].copy()\n",
    "adata"
   ]
  },
  {
   "cell_type": "code",
   "execution_count": null,
   "metadata": {},
   "outputs": [],
   "source": [
    "%%time\n",
    "\n",
    "scv.pp.moments(adata, n_neighbors=15, n_pcs=50)\n",
    "scv.tl.velocity(adata)\n",
    "scv.tl.velocity_graph(adata)\n",
    "scv.tl.terminal_states(adata)"
   ]
  },
  {
   "cell_type": "code",
   "execution_count": null,
   "metadata": {},
   "outputs": [],
   "source": [
    "sc.pl.umap(adata, color='Cell type', size=2)"
   ]
  },
  {
   "cell_type": "code",
   "execution_count": null,
   "metadata": {},
   "outputs": [],
   "source": [
    "scv.pl.velocity_embedding_grid(adata, basis='umap', color='Cell type', scale=0.3, legend_loc='right margin', alpha=1, size=1)"
   ]
  },
  {
   "cell_type": "code",
   "execution_count": null,
   "metadata": {},
   "outputs": [],
   "source": [
    "#scv.pl.velocity_embedding_stream(adata[~adata.obs['Cell type'].isnull()], basis='umap', color='Cell type', legend_loc = 'right margin')"
   ]
  },
  {
   "cell_type": "code",
   "execution_count": null,
   "metadata": {},
   "outputs": [],
   "source": [
    "sc.pl.umap(adata, color=['root_cells', 'end_points'], cmap='RdYlBu')"
   ]
  },
  {
   "cell_type": "code",
   "execution_count": null,
   "metadata": {},
   "outputs": [],
   "source": [
    "#scv.pl.velocity(adata, var_names=important_markers)\n",
    "scv.pl.velocity(adata, var_names=['Gad1', 'Neurod2', 'Neurod6'])"
   ]
  },
  {
   "cell_type": "markdown",
   "metadata": {},
   "source": [
    "## Per group velocity"
   ]
  },
  {
   "cell_type": "code",
   "execution_count": null,
   "metadata": {},
   "outputs": [],
   "source": [
    "group_key = 'postnatal_age'\n",
    "per_group_velocyto = True"
   ]
  },
  {
   "cell_type": "code",
   "execution_count": null,
   "metadata": {},
   "outputs": [],
   "source": [
    "ad.obs.merge(labels[labels.postnatal_age == 21], how='left', on='leiden').set_index(ad.obs.index)"
   ]
  },
  {
   "cell_type": "code",
   "execution_count": null,
   "metadata": {},
   "outputs": [],
   "source": [
    "labels.rename(columns={'sample_leiden': 'leiden'}, inplace=True)"
   ]
  },
  {
   "cell_type": "code",
   "execution_count": null,
   "metadata": {},
   "outputs": [],
   "source": [
    "ad.obs"
   ]
  },
  {
   "cell_type": "code",
   "execution_count": null,
   "metadata": {},
   "outputs": [],
   "source": [
    "for group in (1, 7, 21):\n",
    "    ad = sc.read(f'adata-{group}-velocyto.h5ad')\n",
    "    ad.obs.leiden = ad.obs.leiden.astype(str)\n",
    "    labels.leiden = labels.leiden.astype(str)\n",
    "    \n",
    "    del ad.obs['Cell type']\n",
    "    del ad.obs['postnatal_age_y']\n",
    "    del ad.obs['postnatal_age_x']\n",
    "    \n",
    "    ad.obs = ad.obs.merge(labels[labels.postnatal_age == group], how='left', on=['leiden']).set_index(ad.obs.index)\n",
    "    display(ad.obs.head())\n",
    "    ad.write(f'adata-{group}-velocyto.h5ad')"
   ]
  },
  {
   "cell_type": "code",
   "execution_count": null,
   "metadata": {},
   "outputs": [],
   "source": [
    "%%time\n",
    "\n",
    "from IPython.core.display import display, HTML\n",
    "sc.settings.verbosity = 0\n",
    "\n",
    "individual_ads = {}\n",
    "\n",
    "if per_group_velocyto:\n",
    "    ascat = pd.Categorical(adata.obs[group_key])\n",
    "    for group in tqdm(ascat.categories):\n",
    "        display(HTML(f'<h2>{group_key}: {group}</h2>'))\n",
    "\n",
    "        ad = sc.read(f'adata-{group}-velocyto.h5ad')\n",
    "        ad.obs = ad.obs.merge(labels[labels.postnatal_age == group], how='left', on='leiden').set_index(ad.obs.index)\n",
    "        sc.pl.umap(ad, color='Cell type')\n",
    "        \n",
    "        ad.X = ad.layers['count']\n",
    "        scv.pp.filter_and_normalize(ad)\n",
    "\n",
    "        ## Add markers back to matrix\n",
    "        hvg_and_markers = sorted(set(list(ad.var_names[ad.var.highly_variable].tolist() + important_markers)))\n",
    "        ad = ad[:, hvg_and_markers].copy()\n",
    "\n",
    "        scv.pp.moments(ad, n_neighbors=15, n_pcs=50)\n",
    "        scv.tl.velocity(ad)\n",
    "        scv.tl.velocity_graph(ad)\n",
    "        scv.tl.terminal_states(ad)\n",
    "        \n",
    "        individual_ads[group] = ad\n",
    "        \n",
    "        scv.pl.velocity_embedding_grid(ad, basis='umap', color='Cell type', scale=0.3, legend_loc='right margin', alpha=1, size=1)\n",
    "        sc.pl.umap(ad, color=['root_cells', 'end_points'], cmap='RdYlBu')\n",
    "        #scv.pl.velocity(ad, var_names='Fezf2')"
   ]
  }
 ],
 "metadata": {
  "kernelspec": {
   "display_name": "Python 3",
   "language": "python",
   "name": "python3"
  },
  "language_info": {
   "codemirror_mode": {
    "name": "ipython",
    "version": 3
   },
   "file_extension": ".py",
   "mimetype": "text/x-python",
   "name": "python",
   "nbconvert_exporter": "python",
   "pygments_lexer": "ipython3",
   "version": "3.7.3"
  }
 },
 "nbformat": 4,
 "nbformat_minor": 4
}
