{
 "cells": [
  {
   "cell_type": "markdown",
   "metadata": {},
   "source": [
    "# jovian - 01 Upstream QC"
   ]
  },
  {
   "cell_type": "code",
   "execution_count": null,
   "metadata": {},
   "outputs": [],
   "source": [
    "import scanpy as sc\n",
    "\n",
    "# Plotting\n",
    "import matplotlib.pyplot as plt\n",
    "import matplotlib.ticker as ticker\n",
    "import seaborn as sns\n",
    "\n",
    "# numpy et al.\n",
    "import numpy as np\n",
    "import scipy.sparse as sp\n",
    "import scipy\n",
    "import pandas as pd\n",
    "\n",
    "# R integration\n",
    "from rpy2.robjects.packages import importr\n",
    "from rpy2.robjects.conversion import localconverter\n",
    "from rpy2.robjects import pandas2ri, numpy2ri\n",
    "from rpy2.robjects.vectors import StrVector, FloatVector, ListVector\n",
    "from rpy2.robjects import r\n",
    "import rpy2.robjects as ro\n",
    "import anndata2ri # scipy.sparse + AnnData support\n",
    "\n",
    "numpy2ri.activate()\n",
    "pandas2ri.activate()\n",
    "anndata2ri.activate()\n",
    "\n",
    "from pathlib import Path\n",
    "import math\n",
    "from tqdm.auto import tqdm\n",
    "import warnings\n",
    "import shelve"
   ]
  },
  {
   "cell_type": "code",
   "execution_count": null,
   "metadata": {},
   "outputs": [],
   "source": [
    "%load_ext rpy2.ipython"
   ]
  },
  {
   "cell_type": "code",
   "execution_count": null,
   "metadata": {},
   "outputs": [],
   "source": [
    "sc.settings.verbosity = 'hint'"
   ]
  },
  {
   "cell_type": "markdown",
   "metadata": {},
   "source": [
    "## Parameters"
   ]
  },
  {
   "cell_type": "code",
   "execution_count": null,
   "metadata": {},
   "outputs": [],
   "source": [
    "# Mito\n",
    "par_mt_prefix = 'mt-'\n",
    "\n",
    "# Unfiltered QC\n",
    "par_initial_umi_cutoff = 10\n",
    "par_initial_gene_cutoff = 10\n",
    "\n",
    "# EmptyDrops\n",
    "par_empty_drops_lower_umi_cutoff = 200\n",
    "par_empty_drops_ignore_cutoff = 10\n",
    "par_empty_drops_niters = 10000\n",
    "par_empty_drops_fdr_cutoff = 0.1"
   ]
  },
  {
   "cell_type": "markdown",
   "metadata": {},
   "source": [
    "***"
   ]
  },
  {
   "cell_type": "markdown",
   "metadata": {},
   "source": [
    "## Read the sample sheet and data sets"
   ]
  },
  {
   "cell_type": "code",
   "execution_count": null,
   "metadata": {},
   "outputs": [],
   "source": [
    "conf_sample_sheet = pd.read_csv('samples.csv').set_index('h5ad_or_h5_path')\n",
    "conf_sample_sheet"
   ]
  },
  {
   "cell_type": "code",
   "execution_count": null,
   "metadata": {},
   "outputs": [],
   "source": [
    "conf_n_samples = len(conf_sample_sheet)\n",
    "\n",
    "conf_plotting_n_cols = 5\n",
    "conf_plotting_width = 20\n",
    "conf_plotting_height_per_row = 3.5\n",
    "\n",
    "conf_plotting_n_rows = math.ceil(conf_n_samples/conf_plotting_n_cols)\n",
    "conf_sample_features = conf_sample_sheet.columns.tolist()"
   ]
  },
  {
   "cell_type": "code",
   "execution_count": null,
   "metadata": {},
   "outputs": [],
   "source": [
    "assert 'sample_name' in conf_sample_sheet.columns, 'Sample sheet must have a unique sample_name column'\n",
    "assert 'raw' in conf_sample_sheet.columns, 'Sample sheet must have a raw (True or False) column'\n",
    "assert conf_sample_sheet.sample_name.nunique() == conf_n_samples, 'Sample sheet must have a unique sample_name column'"
   ]
  },
  {
   "cell_type": "markdown",
   "metadata": {},
   "source": [
    "## Tools for prefiltered data"
   ]
  },
  {
   "cell_type": "code",
   "execution_count": null,
   "metadata": {},
   "outputs": [],
   "source": [
    "def emptydrops(adata, lower, niters, ignore, **kwargs):\n",
    "    du = importr('DropletUtils')\n",
    "    ed = du.emptyDrops(adata.X.T, \n",
    "                       lower=lower,\n",
    "                       niters=niters,\n",
    "                       ignore=ignore,\n",
    "                       **kwargs)\n",
    "    fdr = ed.slots['listData'].rx2('FDR')\n",
    "    adata.obs['empty_drops_FDR'] = fdr\n",
    "    \n",
    "    with warnings.catch_warnings():\n",
    "        warnings.simplefilter(\"ignore\")\n",
    "        fdr[fdr == 0.0] = 1.0/niters\n",
    "    \n",
    "        adata.obs['neg_log10_empty_drops_FDR'] = -np.log10(fdr)"
   ]
  },
  {
   "cell_type": "code",
   "execution_count": null,
   "metadata": {},
   "outputs": [],
   "source": [
    "# TODO: loading an R package that uses reticulate causes a segfault, see https://github.com/rstudio/reticulate/issues/208\n",
    "# Seurat 3.1.0 loads leiden package that causes this. Use Seurat 3.0.2 for now.\n",
    "def soupX(path_list, sample_names, soup_range=(0, 10), keep_droplets=True, n_top_cont_genes=20):\n",
    "\n",
    "    sx = importr('SoupX')\n",
    "    scl = sx.load10X(StrVector(path_list), \n",
    "                     channelNames=StrVector(sample_names),\n",
    "                     soupRange=FloatVector(soup_range), \n",
    "                     keepDroplets=keep_droplets)\n",
    "\n",
    "    scl = sx.inferNonExpressedGenes(scl)\n",
    "    for sample in sample_names:\n",
    "        df = scl.rx2('channels').rx2(sample).rx2('nonExpressedGenes')\n",
    "        cont_genes = df[df.isUseful == 1][:n_top_cont_genes].index.values\n",
    "        sx_cont_genes = ListVector(dict(c_genes=cont_genes.tolist()))\n",
    "        scl = sx.calculateContaminationFraction(scl, sample, cont_genes)\n",
    "        scl = sx.interpolateCellContamination(scl, sample, useGlobal=True)\n",
    "        \n",
    "    return scl"
   ]
  },
  {
   "cell_type": "markdown",
   "metadata": {},
   "source": [
    "## Store QC info and run tools on prefiltered data"
   ]
  },
  {
   "cell_type": "code",
   "execution_count": null,
   "metadata": {},
   "outputs": [],
   "source": [
    "%%time\n",
    "\n",
    "conf_samples = {}\n",
    "\n",
    "for sample in tqdm(list(conf_sample_sheet.itertuples())):\n",
    "    file = sample.Index\n",
    "    \n",
    "    if str(sample.raw).lower() == 'true':\n",
    "        ad = sc.read_10x_h5(file).copy()\n",
    "        ad.var_names_make_unique()\n",
    "    else:\n",
    "        ad = sc.read(file)\n",
    "\n",
    "    display(ad)\n",
    "\n",
    "    # Read 10X filtered file\n",
    "    file_path = Path(file)\n",
    "    filtered_h5_path = file_path.parent / file_path.name.replace('raw', 'filtered')\n",
    "    if filtered_h5_path.exists():\n",
    "        cell_barcodes = sc.read_10x_h5(filtered_h5_path).obs_names.values\n",
    "        ad.obs['10x_cell_calling'] = False\n",
    "        ad.obs.loc[cell_barcodes] = True\n",
    "    else:\n",
    "        ad.obs['10x_cell_calling'] = np.nan\n",
    "\n",
    "    for sample_feature in conf_sample_features:\n",
    "        ad.obs[sample_feature] = sample._asdict()[sample_feature]\n",
    "    \n",
    "    if str(sample.raw).lower() == 'true':\n",
    "        # EmptyDrops\n",
    "        emptydrops(ad,\n",
    "                   lower=par_empty_drops_lower_umi_cutoff,\n",
    "                   niters=par_empty_drops_niters,\n",
    "                   ignore=par_empty_drops_ignore_cutoff)\n",
    "    else:\n",
    "        ad.obs['empty_drops_FDR'] = np.nan\n",
    "        ad.obs['neg_log10_empty_drops_FDR'] = np.nan\n",
    "\n",
    "    ad.obs['n_umis']  = ad.X.sum(1)\n",
    "    ad.obs['n_genes'] = (ad.X != 0).sum(1).A1\n",
    "    ad.obs['log10_n_umis'] = np.log10(ad.X.sum(1))\n",
    "    ad.obs['log10_n_genes'] = np.log10((ad.X != 0).sum(1).A1)\n",
    "\n",
    "    # Total UMI/gene cutoffs\n",
    "    ad = ad[ad.obs.n_umis  > par_initial_umi_cutoff]\n",
    "    ad = ad[ad.obs.n_genes > par_initial_gene_cutoff]\n",
    "    display(ad)\n",
    "    \n",
    "    # Save barcode rank\n",
    "    ad.obs['barcode_rank'] = scipy.stats.rankdata(-ad.obs['n_umis'])\n",
    "    \n",
    "    # MT\n",
    "    mt_gene_mask = ad.var_names.str.startswith(par_mt_prefix)\n",
    "    ad.obs['mt_frac'] = ad.X[:, mt_gene_mask].sum(1).A1 / ad.obs['n_umis']\n",
    "\n",
    "    conf_samples[sample.sample_name] = ad.copy()"
   ]
  },
  {
   "cell_type": "code",
   "execution_count": null,
   "metadata": {},
   "outputs": [],
   "source": [
    "conf_samples"
   ]
  },
  {
   "cell_type": "markdown",
   "metadata": {},
   "source": [
    "## UMI/Gene Rank Plots"
   ]
  },
  {
   "cell_type": "code",
   "execution_count": null,
   "metadata": {},
   "outputs": [],
   "source": [
    "f, axs = plt.subplots(conf_plotting_n_rows, conf_plotting_n_cols,\n",
    "                      figsize=(conf_plotting_width, \n",
    "                               conf_plotting_n_rows*conf_plotting_height_per_row), \n",
    "                      sharey=True, sharex=True)\n",
    "axs = axs.flatten()\n",
    "\n",
    "for sample, ad, ax in tqdm(list(zip(conf_samples.keys(), conf_samples.values(), axs))):\n",
    "    ax.scatter(ad.obs.barcode_rank.values, \n",
    "               ad.obs.n_umis.values,\n",
    "               s=1, alpha=0.5)\n",
    "\n",
    "    ax.axhline(par_empty_drops_ignore_cutoff, color='red')\n",
    "    ax.axhline(par_empty_drops_lower_umi_cutoff, color='red')\n",
    "\n",
    "    ax.set_yscale('log')\n",
    "    ax.set_xscale('log')\n",
    "    \n",
    "    ax.set_xlabel('Barcode rank')\n",
    "    ax.set_ylabel('nUMIs')\n",
    "    \n",
    "    ax.set_title(sample)\n",
    "    \n",
    "plt.subplots_adjust()"
   ]
  },
  {
   "cell_type": "markdown",
   "metadata": {},
   "source": [
    "## nGenes vs nUMIs and distributions"
   ]
  },
  {
   "cell_type": "code",
   "execution_count": null,
   "metadata": {},
   "outputs": [],
   "source": [
    "f, axs = plt.subplots(conf_plotting_n_rows, conf_plotting_n_cols,\n",
    "                      figsize=(conf_plotting_width, \n",
    "                               conf_plotting_n_rows*conf_plotting_height_per_row), \n",
    "                      sharey=True, sharex=True)\n",
    "axs = axs.flatten()\n",
    "\n",
    "for sample, ad, ax in tqdm(list(zip(conf_samples.keys(), conf_samples.values(), axs))):\n",
    "    ax.scatter(ad.obs.n_umis.values+1,\n",
    "               ad.obs.n_genes.values+1,\n",
    "               alpha=0.5,\n",
    "               s=0.1)\n",
    "    ax.axvline(par_empty_drops_ignore_cutoff, color='red')\n",
    "    ax.axvline(par_empty_drops_lower_umi_cutoff, color='red')\n",
    "    \n",
    "    ax.set_yscale('log')\n",
    "    ax.set_xscale('log')\n",
    "    ax.set_title(sample)\n",
    "    \n",
    "    ax.set_xlabel('nUMIs')\n",
    "    ax.set_ylabel('nGenes')\n",
    "\n",
    "\n",
    "f.suptitle('UMIs vs genes', fontsize=16)\n",
    "plt.subplots_adjust(top=0.8)\n",
    "\n",
    "## UMI distr.\n",
    "\n",
    "f, axs = plt.subplots(conf_plotting_n_rows, conf_plotting_n_cols,\n",
    "                      figsize=(conf_plotting_width, \n",
    "                               conf_plotting_n_rows*conf_plotting_height_per_row), \n",
    "                      sharey=True, sharex=True)\n",
    "axs = axs.flatten()\n",
    "\n",
    "for sample, ad, ax in tqdm(list(zip(conf_samples.keys(), conf_samples.values(), axs))):\n",
    "    ax.hist(ad.obs.log10_n_umis.values, bins=100)\n",
    "    ax.axvline(np.log10(par_empty_drops_ignore_cutoff), color='red')\n",
    "    ax.axvline(np.log10(par_empty_drops_lower_umi_cutoff), color='red')\n",
    "    \n",
    "    ax.xaxis.set_major_locator(ticker.MultipleLocator(1))\n",
    "    ax.set_title(sample)\n",
    "    ax.set_xlabel('nUMIs (log10)')\n",
    "\n",
    "f.suptitle('UMI distributions', fontsize=16)\n",
    "plt.subplots_adjust(top=0.8)\n",
    "\n",
    "## Gene distr.\n",
    "\n",
    "f, axs = plt.subplots(conf_plotting_n_rows, conf_plotting_n_cols,\n",
    "                      figsize=(conf_plotting_width, \n",
    "                               conf_plotting_n_rows*conf_plotting_height_per_row), \n",
    "                      sharey=True, sharex=True)\n",
    "axs = axs.flatten()\n",
    "\n",
    "for sample, ad, ax in tqdm(list(zip(conf_samples.keys(), conf_samples.values(), axs))):\n",
    "    ax.hist(ad.obs.log10_n_genes.values, bins=100)\n",
    "\n",
    "    ax.xaxis.set_major_locator(ticker.MultipleLocator(1))\n",
    "    ax.set_title(sample)    \n",
    "    ax.set_xlabel('nGenes (log10)')\n",
    "\n",
    "f.suptitle('Gene distributions', fontsize=16)\n",
    "plt.subplots_adjust(top=0.8)"
   ]
  },
  {
   "cell_type": "markdown",
   "metadata": {},
   "source": [
    "## nGenes vs nUMIs and distributions (with EmptyDrops)"
   ]
  },
  {
   "cell_type": "code",
   "execution_count": null,
   "metadata": {},
   "outputs": [],
   "source": [
    "from mpl_toolkits.axes_grid1 import make_axes_locatable\n",
    "\n",
    "if (conf_sample_sheet.raw.astype(str).str.lower() == 'true').any():\n",
    "\n",
    "    f, axs = plt.subplots(conf_plotting_n_rows, conf_plotting_n_cols,\n",
    "                          figsize=(conf_plotting_width, \n",
    "                                   conf_plotting_n_rows*conf_plotting_height_per_row), \n",
    "                          sharey=True, sharex=True)\n",
    "    axs = axs.flatten()\n",
    "\n",
    "    for sample, ad, ax in tqdm(list(zip(conf_samples.keys(), conf_samples.values(), axs))):\n",
    "        if np.any(np.isfinite(ad.obs.neg_log10_empty_drops_FDR)):\n",
    "            idx = np.argsort(ad.obs.neg_log10_empty_drops_FDR)[::-1]\n",
    "            ad = ad[idx]\n",
    "\n",
    "            pc = ax.scatter(ad.obs.n_genes.values+1,\n",
    "                            ad.obs.n_umis.values+1,\n",
    "                            s=0.1,\n",
    "                            c=ad.obs.neg_log10_empty_drops_FDR)\n",
    "            ax.axvline(par_empty_drops_ignore_cutoff, color='red')\n",
    "            ax.axvline(par_empty_drops_lower_umi_cutoff, color='red')\n",
    "\n",
    "            ax.set_yscale('log')\n",
    "            ax.set_xscale('log')\n",
    "            ax.set_title(sample)\n",
    "\n",
    "            ax.set_xlabel('nUMIs')\n",
    "            ax.set_ylabel('nGenes')\n",
    "\n",
    "            divider = make_axes_locatable(ax)\n",
    "            cax = divider.append_axes('right', size='5%', pad=0.05)\n",
    "            f.colorbar(pc, cax=cax, orientation='vertical')\n",
    "\n",
    "    f.suptitle('UMIs vs genes (colored by EmptyDrops FDR)', fontsize=16)\n",
    "    plt.subplots_adjust(wspace=0.3, hspace=0.3, top=0.8)\n",
    "\n",
    "    ## UMI distr.\n",
    "\n",
    "    f, axs = plt.subplots(conf_plotting_n_rows, conf_plotting_n_cols,\n",
    "                          figsize=(conf_plotting_width, \n",
    "                                   conf_plotting_n_rows*conf_plotting_height_per_row), \n",
    "                          sharey=True, sharex=True)\n",
    "    axs = axs.flatten()\n",
    "\n",
    "    for sample, ad, ax in tqdm(list(zip(conf_samples.keys(), conf_samples.values(), axs))):\n",
    "        if np.any(np.isfinite(ad.obs.neg_log10_empty_drops_FDR)):\n",
    "            ad = ad[ad.obs.neg_log10_empty_drops_FDR > -np.log10(par_empty_drops_fdr_cutoff)]\n",
    "            ax.hist(ad.obs.log10_n_umis.values, bins=100)\n",
    "            ax.axvline(np.log10(par_empty_drops_ignore_cutoff), color='red')\n",
    "            ax.axvline(np.log10(par_empty_drops_lower_umi_cutoff), color='red')\n",
    "\n",
    "            ax.xaxis.set_major_locator(ticker.MultipleLocator(1))\n",
    "            ax.set_title(sample)\n",
    "            ax.set_xlabel('nUMIs (log10)')\n",
    "\n",
    "    f.suptitle('EmptyDrops-selected barcodes (UMI distributions)', fontsize=16)\n",
    "    plt.subplots_adjust(top=0.8)\n",
    "\n",
    "    # Gene distr.\n",
    "\n",
    "    f, axs = plt.subplots(conf_plotting_n_rows, conf_plotting_n_cols,\n",
    "                          figsize=(conf_plotting_width, \n",
    "                                   conf_plotting_n_rows*conf_plotting_height_per_row), \n",
    "                          sharey=True, sharex=True)\n",
    "    axs = axs.flatten()\n",
    "\n",
    "    for sample, ad, ax in tqdm(list(zip(conf_samples.keys(), conf_samples.values(), axs))):\n",
    "        if np.any(np.isfinite(ad.obs.neg_log10_empty_drops_FDR)):\n",
    "            ad = ad[ad.obs.neg_log10_empty_drops_FDR > -np.log10(par_empty_drops_fdr_cutoff)]\n",
    "            x = ad.obs.log10_n_genes.values\n",
    "            ax.hist(x, bins=100)\n",
    "\n",
    "            ax.xaxis.set_major_locator(ticker.MultipleLocator(1))\n",
    "            ax.set_title(sample)\n",
    "            ax.set_xlabel('nGenes (log10)')\n",
    "\n",
    "    f.suptitle('EmptyDrops-selected barcodes (gene distributions)', fontsize=16)\n",
    "    plt.subplots_adjust(top=0.8)"
   ]
  },
  {
   "cell_type": "markdown",
   "metadata": {},
   "source": [
    "## Serialize the session"
   ]
  },
  {
   "cell_type": "code",
   "execution_count": null,
   "metadata": {},
   "outputs": [],
   "source": [
    "k = None\n",
    "var = None\n",
    "\n",
    "with shelve.open('session.pkl', protocol=4, flag='n') as db:\n",
    "    for k, var in globals().items():\n",
    "        if k.startswith('par_') or k.startswith('conf_'):\n",
    "            print(f'Storing {k}...')\n",
    "            db[k] = var\n",
    "db.close()"
   ]
  }
 ],
 "metadata": {
  "kernelspec": {
   "display_name": "Python 3",
   "language": "python",
   "name": "python3"
  },
  "language_info": {
   "codemirror_mode": {
    "name": "ipython",
    "version": 3
   },
   "file_extension": ".py",
   "mimetype": "text/x-python",
   "name": "python",
   "nbconvert_exporter": "python",
   "pygments_lexer": "ipython3",
   "version": "3.7.3"
  }
 },
 "nbformat": 4,
 "nbformat_minor": 4
}
