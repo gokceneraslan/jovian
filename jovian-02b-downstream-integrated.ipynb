{
 "cells": [
  {
   "cell_type": "markdown",
   "metadata": {},
   "source": [
    "# jovian - 02b Downstream"
   ]
  },
  {
   "cell_type": "code",
   "execution_count": null,
   "metadata": {},
   "outputs": [],
   "source": [
    "import scanpy as sc\n",
    "\n",
    "# Plotting\n",
    "import matplotlib\n",
    "import matplotlib.pyplot as plt\n",
    "import matplotlib.ticker as ticker\n",
    "import seaborn as sns\n",
    "\n",
    "# numpy et al.\n",
    "import numpy as np\n",
    "import scipy.sparse as sp\n",
    "import pandas as pd\n",
    "\n",
    "# R integration\n",
    "from rpy2.robjects.packages import importr\n",
    "from rpy2.robjects import pandas2ri\n",
    "import rpy2.robjects.numpy2ri as numpy2ri\n",
    "import anndata2ri\n",
    "\n",
    "numpy2ri.activate()\n",
    "pandas2ri.activate()\n",
    "anndata2ri.activate()\n",
    "\n",
    "from pathlib import Path\n",
    "import math\n",
    "from tqdm.auto import tqdm\n",
    "import warnings\n",
    "import pickle\n",
    "from urllib.request import urlopen\n",
    "import shelve"
   ]
  },
  {
   "cell_type": "code",
   "execution_count": null,
   "metadata": {},
   "outputs": [],
   "source": [
    "%load_ext rpy2.ipython"
   ]
  },
  {
   "cell_type": "code",
   "execution_count": null,
   "metadata": {},
   "outputs": [],
   "source": [
    "sc.set_figure_params(dpi=100, fontsize=12)\n",
    "matplotlib.rcParams['font.sans-serif'] = matplotlib.rcParamsDefault['font.sans-serif']\n",
    "\n",
    "sc.settings.verbosity = 'hint'"
   ]
  },
  {
   "cell_type": "markdown",
   "metadata": {},
   "source": [
    "***"
   ]
  },
  {
   "cell_type": "markdown",
   "metadata": {},
   "source": [
    "## Parameters"
   ]
  },
  {
   "cell_type": "code",
   "execution_count": null,
   "metadata": {},
   "outputs": [],
   "source": [
    "par_save_filename = 'adata.h5ad'\n",
    "par_save_filename_group = 'adata-group-%s.h5ad'\n",
    "\n",
    "par_remove_doublets = True\n",
    "\n",
    "par_generate_plots_per_group = True\n",
    "par_group_key = 'tissue'\n",
    "\n",
    "par_merge_type = 'outer'\n",
    "par_batch_key = 'sample_name'"
   ]
  },
  {
   "cell_type": "markdown",
   "metadata": {},
   "source": [
    "***"
   ]
  },
  {
   "cell_type": "markdown",
   "metadata": {},
   "source": [
    "## Load session"
   ]
  },
  {
   "cell_type": "code",
   "execution_count": null,
   "metadata": {},
   "outputs": [],
   "source": [
    "with shelve.open('session.pkl', protocol=4, writeback=False) as db:\n",
    "    for k in db.keys():\n",
    "        globals()[k] = db[k]"
   ]
  },
  {
   "cell_type": "code",
   "execution_count": null,
   "metadata": {},
   "outputs": [],
   "source": [
    "del conf_samples\n",
    "\n",
    "for sample, ad in conf_samples_processed.items():\n",
    "    ad.X = ad.layers['counts'].copy()\n",
    "    del ad.layers['counts']\n",
    "    \n",
    "    display(ad)"
   ]
  },
  {
   "cell_type": "markdown",
   "metadata": {},
   "source": [
    "## Merge samples"
   ]
  },
  {
   "cell_type": "code",
   "execution_count": null,
   "metadata": {},
   "outputs": [],
   "source": [
    "%%time\n",
    "\n",
    "batch_categories, ads = zip(*conf_samples_processed.items())\n",
    "\n",
    "adata = sc.AnnData.concatenate(*ads, join=par_merge_type, batch_key=par_batch_key, batch_categories=batch_categories)\n",
    "del conf_samples_processed\n",
    "\n",
    "adata"
   ]
  },
  {
   "cell_type": "code",
   "execution_count": null,
   "metadata": {},
   "outputs": [],
   "source": [
    "sc.pp.filter_genes(adata, min_counts=1)\n",
    "sc.pp.filter_cells(adata, min_counts=1)\n",
    "\n",
    "adata"
   ]
  },
  {
   "cell_type": "code",
   "execution_count": null,
   "metadata": {},
   "outputs": [],
   "source": [
    "adata.obs.head()"
   ]
  },
  {
   "cell_type": "markdown",
   "metadata": {},
   "source": [
    "## Highest expression"
   ]
  },
  {
   "cell_type": "code",
   "execution_count": null,
   "metadata": {},
   "outputs": [],
   "source": [
    "sc.pl.highest_expr_genes(adata);"
   ]
  },
  {
   "cell_type": "markdown",
   "metadata": {},
   "source": [
    "## Normalization and log transform"
   ]
  },
  {
   "cell_type": "code",
   "execution_count": null,
   "metadata": {},
   "outputs": [],
   "source": [
    "adata.layers['counts'] = adata.X.copy()\n",
    "\n",
    "sc.pp.normalize_total(adata, target_sum=par_preprocessing_target_sum)\n",
    "sc.pp.log1p(adata)\n",
    "adata.raw = adata"
   ]
  },
  {
   "cell_type": "code",
   "execution_count": null,
   "metadata": {},
   "outputs": [],
   "source": [
    "adata"
   ]
  },
  {
   "cell_type": "markdown",
   "metadata": {},
   "source": [
    "# Downstream"
   ]
  },
  {
   "cell_type": "code",
   "execution_count": null,
   "metadata": {},
   "outputs": [],
   "source": [
    "%%time\n",
    "\n",
    "sc.pp.highly_variable_genes(adata, n_top_genes=par_downstream_n_top_genes)\n",
    "sc.pp.pca(adata, n_comps=par_downstream_n_pcs, svd_solver='arpack')\n",
    "sc.pp.neighbors(adata, n_neighbors=par_downstream_n_neighbors, metric=par_downstream_neighbor_metric)\n",
    "sc.tl.umap(adata)\n",
    "sc.tl.leiden(adata, resolution=par_downstream_louvain_resolution)\n",
    "sc.tl.diffmap(adata)\n",
    "\n",
    "adata"
   ]
  },
  {
   "cell_type": "markdown",
   "metadata": {},
   "source": [
    "## Store the AnnData file"
   ]
  },
  {
   "cell_type": "code",
   "execution_count": null,
   "metadata": {},
   "outputs": [],
   "source": [
    "adata.write(par_save_filename)"
   ]
  },
  {
   "cell_type": "code",
   "execution_count": null,
   "metadata": {},
   "outputs": [],
   "source": [
    "adata.obs.head()"
   ]
  },
  {
   "cell_type": "markdown",
   "metadata": {},
   "source": [
    "## Percent mito UMI"
   ]
  },
  {
   "cell_type": "code",
   "execution_count": null,
   "metadata": {},
   "outputs": [],
   "source": [
    "f, ax = plt.subplots(1, 4, figsize=(20, 4))\n",
    "sc.pl.scatter(adata, \n",
    "              x='n_umis',\n",
    "              y='n_genes', \n",
    "              color='mt_frac', \n",
    "              ax=ax[0],\n",
    "              show=False, \n",
    "              right_margin=2.85, \n",
    "              title='Percent mitochondrial UMIs')\n",
    "ax[0].set_xscale('log')\n",
    "ax[0].set_yscale('log')\n",
    "\n",
    "sc.pl.scatter(adata, x='n_umis', y='mt_frac', ax=ax[1], show=False)\n",
    "ax[1].set_xscale('log')\n",
    "plt.subplots_adjust(wspace=0.5)\n",
    "\n",
    "sc.pl.violin(adata, keys='log10_n_umis', groupby='sample_name', rotation=90, ax=ax[2], show=False)\n",
    "sc.pl.violin(adata, keys='log10_n_umis', groupby='sample_name', rotation=90, ax=ax[3], show=False)"
   ]
  },
  {
   "cell_type": "markdown",
   "metadata": {},
   "source": [
    "# Visualization"
   ]
  },
  {
   "cell_type": "markdown",
   "metadata": {},
   "source": [
    "## PCA"
   ]
  },
  {
   "cell_type": "code",
   "execution_count": null,
   "metadata": {},
   "outputs": [],
   "source": [
    "sc.pl.pca_variance_ratio(adata)"
   ]
  },
  {
   "cell_type": "code",
   "execution_count": null,
   "metadata": {},
   "outputs": [],
   "source": [
    "sc.pl.pca_loadings(adata, components=range(1, 6))"
   ]
  },
  {
   "cell_type": "code",
   "execution_count": null,
   "metadata": {},
   "outputs": [],
   "source": [
    "sc.pl.pca(adata, color='leiden', components=['1,2', '3,2', '3,4', '5,4'], legend_loc=None)"
   ]
  },
  {
   "cell_type": "code",
   "execution_count": null,
   "metadata": {},
   "outputs": [],
   "source": [
    "feat = sorted(list(set(adata.obs.columns) & set(conf_visualize_features + conf_sample_features)))\n",
    "\n",
    "sc.pl.pca(adata, color=feat, wspace=0.55, ncols=4)"
   ]
  },
  {
   "cell_type": "markdown",
   "metadata": {},
   "source": [
    "### Embedding & clustering"
   ]
  },
  {
   "cell_type": "code",
   "execution_count": null,
   "metadata": {},
   "outputs": [],
   "source": [
    "umap_point_size = np.maximum(120000/adata.n_obs, 2)"
   ]
  },
  {
   "cell_type": "code",
   "execution_count": null,
   "metadata": {},
   "outputs": [],
   "source": [
    "f, ax = plt.subplots(figsize=(10, 10))\n",
    "sc.pl.umap(adata, color='leiden', legend_loc='on data', legend_fontoutline=3, legend_fontsize=14, legend_fontweight='normal', title='Clusters', ax=ax, show=False);"
   ]
  },
  {
   "cell_type": "markdown",
   "metadata": {},
   "source": [
    "### QC on embeddings"
   ]
  },
  {
   "cell_type": "code",
   "execution_count": null,
   "metadata": {},
   "outputs": [],
   "source": [
    "sc.pl.umap(adata, color=feat, wspace=0.7, ncols=4)"
   ]
  },
  {
   "cell_type": "code",
   "execution_count": null,
   "metadata": {},
   "outputs": [],
   "source": [
    "sc.pl.umap(adata, color='scrublet_score', vmax=0.5, cmap='Reds')"
   ]
  },
  {
   "cell_type": "markdown",
   "metadata": {},
   "source": [
    "### Samples"
   ]
  },
  {
   "cell_type": "code",
   "execution_count": null,
   "metadata": {},
   "outputs": [],
   "source": [
    "f, axs = plt.subplots(conf_plotting_n_rows, conf_plotting_n_cols,\n",
    "                      figsize=(conf_plotting_width, \n",
    "                               conf_plotting_n_rows*conf_plotting_height_per_row), \n",
    "                      sharey=True, sharex=True)\n",
    "axs = axs.flatten()\n",
    "for sample, ax in zip(adata.obs.sample_name.cat.categories, axs):\n",
    "    sc.pl.umap(adata, color='sample_name', groups=sample, ax=ax, show=False, legend_loc=None, title=sample)\n",
    "    \n",
    "plt.subplots_adjust()"
   ]
  },
  {
   "cell_type": "markdown",
   "metadata": {},
   "source": [
    "## Remove doublets"
   ]
  },
  {
   "cell_type": "code",
   "execution_count": null,
   "metadata": {},
   "outputs": [],
   "source": [
    "if par_remove_doublets:\n",
    "\n",
    "    adata = adata[~adata.obs.scrublet].copy()\n",
    "\n",
    "    sc.pp.pca(adata, n_comps=par_downstream_n_pcs, svd_solver='arpack')\n",
    "    sc.pp.neighbors(adata, n_neighbors=par_downstream_n_neighbors, metric=par_downstream_neighbor_metric)\n",
    "    sc.tl.umap(adata)\n",
    "    sc.tl.leiden(adata, resolution=par_downstream_louvain_resolution)\n",
    "    sc.tl.diffmap(adata)\n",
    "\n",
    "    f, ax = plt.subplots(figsize=(10, 10))\n",
    "    sc.pl.umap(adata, color='leiden', legend_loc='on data', legend_fontoutline=3, legend_fontsize=14, legend_fontweight='normal', title='Clusters', ax=ax, show=False);\n",
    "\n",
    "    ### QC on embeddings\n",
    "    sc.pl.umap(adata, color=feat, wspace=0.7, ncols=4)\n",
    "    sc.pl.umap(adata, color='scrublet_score', vmax=0.5, cmap='Reds')\n",
    "\n",
    "    ### Samples\n",
    "    f, axs = plt.subplots(conf_plotting_n_rows, conf_plotting_n_cols,\n",
    "                          figsize=(conf_plotting_width, \n",
    "                                   conf_plotting_n_rows*conf_plotting_height_per_row), \n",
    "                          sharey=True, sharex=True)\n",
    "    axs = axs.flatten()\n",
    "    for sample, ax in zip(adata.obs.sample_name.cat.categories, axs):\n",
    "        sc.pl.umap(adata, color='sample_name', groups=sample, ax=ax, show=False, legend_loc=None, title=sample)\n",
    "    plt.subplots_adjust()\n",
    "    \n",
    "    adata.write(par_save_filename)"
   ]
  },
  {
   "cell_type": "markdown",
   "metadata": {},
   "source": [
    "## Plots per group"
   ]
  },
  {
   "cell_type": "code",
   "execution_count": null,
   "metadata": {},
   "outputs": [],
   "source": [
    "%%time\n",
    "\n",
    "from IPython.core.display import display, HTML\n",
    "sc.settings.verbosity = 0\n",
    "\n",
    "if par_generate_plots_per_group:\n",
    "\n",
    "    ascat = pd.Categorical(adata.obs[par_group_key])\n",
    "    for group in ascat.categories:\n",
    "        \n",
    "        display(HTML(f'<h1>{par_group_key.capitalize()}: {group}</h1>'))\n",
    "        \n",
    "        ad = adata[ascat == group].copy()\n",
    "        \n",
    "        assert np.min(ad.X) >= 0.0\n",
    "        ad._inplace_subset_var(ad.X.sum(0).A1 > 0)\n",
    "        ad._inplace_subset_obs(ad.X.sum(1).A1 > 0)\n",
    "\n",
    "        sc.pp.highly_variable_genes(ad, n_top_genes=par_downstream_n_top_genes)\n",
    "        \n",
    "        sc.pp.pca(ad, n_comps=par_downstream_n_pcs, svd_solver='arpack')\n",
    "        sc.pp.neighbors(ad, n_neighbors=par_downstream_n_neighbors, metric=par_downstream_neighbor_metric)\n",
    "        sc.tl.umap(ad)\n",
    "        sc.tl.leiden(ad, resolution=par_downstream_louvain_resolution)\n",
    "        sc.tl.diffmap(ad)\n",
    "\n",
    "        ##### Visualize\n",
    "        f, ax = plt.subplots(1, 4, figsize=(20, 4))\n",
    "        sc.pl.scatter(ad, \n",
    "                      x='n_umis',\n",
    "                      y='n_genes', \n",
    "                      color='mt_frac', \n",
    "                      ax=ax[0],\n",
    "                      show=False, \n",
    "                      right_margin=2.85, \n",
    "                      title='Percent mitochondrial UMIs')\n",
    "        ax[0].set_xscale('log')\n",
    "        ax[0].set_yscale('log')\n",
    "\n",
    "        sc.pl.scatter(ad, x='n_umis', y='mt_frac', ax=ax[1], show=False)\n",
    "        ax[1].set_xscale('log')\n",
    "        plt.subplots_adjust(wspace=0.5)\n",
    "\n",
    "        sc.pl.violin(ad, keys='log10_n_umis', groupby='sample_name', rotation=90, ax=ax[2], show=False)\n",
    "        sc.pl.violin(ad, keys='log10_n_umis', groupby='sample_name', rotation=90, ax=ax[3], show=False)\n",
    "\n",
    "        f, ax = plt.subplots(figsize=(10, 10))\n",
    "        sc.pl.umap(ad, color='leiden', legend_loc='on data', legend_fontoutline=3, legend_fontsize=14, legend_fontweight='normal', title='Clusters', ax=ax, show=False)\n",
    "\n",
    "        sc.pl.umap(ad, color=feat, wspace=0.7, ncols=4)\n",
    "        sc.pl.umap(ad, color='scrublet_score', vmax=0.5, cmap='Reds')\n",
    "        \n",
    "        ##### Save\n",
    "        ad.write(par_save_filename_group % group)"
   ]
  },
  {
   "cell_type": "markdown",
   "metadata": {},
   "source": [
    "## Serialize the session"
   ]
  },
  {
   "cell_type": "code",
   "execution_count": null,
   "metadata": {},
   "outputs": [],
   "source": [
    "k = None\n",
    "var = None\n",
    "\n",
    "with shelve.open('session.pkl', protocol=4) as db:\n",
    "    for k, var in globals().items():\n",
    "        if k.startswith('par_') or k.startswith('conf_'):\n",
    "            print(f'Storing {k}...')\n",
    "            db[k] = var\n",
    "db.close()"
   ]
  }
 ],
 "metadata": {
  "kernelspec": {
   "display_name": "Python 3",
   "language": "python",
   "name": "python3"
  },
  "language_info": {
   "codemirror_mode": {
    "name": "ipython",
    "version": 3
   },
   "file_extension": ".py",
   "mimetype": "text/x-python",
   "name": "python",
   "nbconvert_exporter": "python",
   "pygments_lexer": "ipython3",
   "version": "3.7.3"
  }
 },
 "nbformat": 4,
 "nbformat_minor": 4
}
