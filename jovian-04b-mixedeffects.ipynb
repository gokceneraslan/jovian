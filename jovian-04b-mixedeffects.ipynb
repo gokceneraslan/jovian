{
 "cells": [
  {
   "cell_type": "markdown",
   "metadata": {},
   "source": [
    "# Mixed effect modeling with Scanpy and lme4 R package"
   ]
  },
  {
   "cell_type": "code",
   "execution_count": 1,
   "metadata": {},
   "outputs": [],
   "source": [
    "import scanpy as sc\n",
    "import pandas as pd"
   ]
  },
  {
   "cell_type": "code",
   "execution_count": 2,
   "metadata": {},
   "outputs": [],
   "source": [
    "import rpy2.robjects as ro\n",
    "from rpy2.robjects import pandas2ri, r, Formula\n",
    "from rpy2.robjects.packages import importr\n",
    "from rpy2.robjects.conversion import localconverter\n",
    "\n",
    "def fit_lme(formula, df, nb=False, **fit_kwargs):\n",
    "    f = Formula(formula)\n",
    "    \n",
    "    lmer = importr('lmerTest') # overloads lmer function from lme4 package\n",
    "    base = importr('base')\n",
    "    stats = importr('stats')\n",
    "\n",
    "    with localconverter(ro.default_converter + pandas2ri.converter):\n",
    "        if not nb:\n",
    "            fit = lmer.lmer(f, df, **fit_kwargs)\n",
    "        else:\n",
    "            fit = r('lme4::glmer.nb')(f, df, **fit_kwargs)\n",
    "        anova_df = stats.anova(fit)\n",
    "\n",
    "    # no automatic pandas conversion here, keep as FloatMatrix\n",
    "    coef_df = base.summary(fit).rx2('coefficients')\n",
    "\n",
    "    with localconverter(ro.default_converter + pandas2ri.converter):\n",
    "        coef_df = r['as.data.frame'](coef_df)\n",
    "\n",
    "    return coef_df, anova_df"
   ]
  },
  {
   "cell_type": "code",
   "execution_count": 3,
   "metadata": {},
   "outputs": [],
   "source": [
    "from tqdm.auto import tqdm\n",
    "\n",
    "def fit_lme_adata(adata, genes, formula, obs_features, use_raw=False):\n",
    "    coef_df = {}\n",
    "    anova_df = {}\n",
    "    covariates = adata.obs[obs_features]\n",
    "    \n",
    "    for gene in tqdm(genes):\n",
    "        gene_vec = adata[:, gene].X if not use_raw else adata.raw[:, gene].X\n",
    "        df = pd.concat([covariates,\n",
    "                        pd.DataFrame(gene_vec,\n",
    "                                     index=adata.obs.index, \n",
    "                                     columns=['gene'])], axis=1)\n",
    "\n",
    "        coefs, anova = fit_lme(formula, df)\n",
    "        coef_df[gene] = coefs\n",
    "        anova_df[gene] = anova\n",
    "        \n",
    "    coef_df = pd.concat([df.assign(gene=gene) for gene, df in coef_df.items()], axis=0)\n",
    "    coef_df = coef_df.reset_index().rename(columns={'index': 'fixed_effect'})\n",
    "\n",
    "    anova_df = pd.concat([df.assign(gene=gene) for gene, df in anova_df.items()], axis=0)\n",
    "    anova_df = anova_df.reset_index().rename(columns={'index': 'fixed_effect'})\n",
    "   \n",
    "    return coef_df, anova_df"
   ]
  },
  {
   "cell_type": "code",
   "execution_count": 5,
   "metadata": {},
   "outputs": [
    {
     "name": "stdout",
     "output_type": "stream",
     "text": [
      "WARNING: In Scanpy 0.*, this returned logarithmized data. Now it returns non-logarithmized data.\n"
     ]
    },
    {
     "name": "stderr",
     "output_type": "stream",
     "text": [
      "... storing 'paul15_clusters' as categorical\n",
      "Trying to set attribute `.uns` of view, making a copy.\n",
      "/Users/gokcen/Library/Python/3.7/lib/python/site-packages/anndata/core/anndata.py:846: FutureWarning: In anndata v0.7+, arrays contained within an AnnData object will maintain their dimensionality. For example, prior to v0.7 `adata[0, 0].X` returned a scalar and `adata[0, :]` returned a 1d array, post v0.7 they will return two dimensional arrays. If you would like to get a one dimensional array from your AnnData object, consider using the `adata.obs_vector`, `adata.var_vector` methods or accessing the array directly.\n",
      "  warn_flatten()\n"
     ]
    },
    {
     "data": {
      "text/html": [
       "<div>\n",
       "<style scoped>\n",
       "    .dataframe tbody tr th:only-of-type {\n",
       "        vertical-align: middle;\n",
       "    }\n",
       "\n",
       "    .dataframe tbody tr th {\n",
       "        vertical-align: top;\n",
       "    }\n",
       "\n",
       "    .dataframe thead th {\n",
       "        text-align: right;\n",
       "    }\n",
       "</style>\n",
       "<table border=\"1\" class=\"dataframe\">\n",
       "  <thead>\n",
       "    <tr style=\"text-align: right;\">\n",
       "      <th></th>\n",
       "      <th>paul15_clusters</th>\n",
       "      <th>somecoef</th>\n",
       "    </tr>\n",
       "  </thead>\n",
       "  <tbody>\n",
       "    <tr>\n",
       "      <td>0</td>\n",
       "      <td>7MEP</td>\n",
       "      <td>0.0</td>\n",
       "    </tr>\n",
       "    <tr>\n",
       "      <td>1</td>\n",
       "      <td>15Mo</td>\n",
       "      <td>4.0</td>\n",
       "    </tr>\n",
       "    <tr>\n",
       "      <td>2</td>\n",
       "      <td>3Ery</td>\n",
       "      <td>2.0</td>\n",
       "    </tr>\n",
       "    <tr>\n",
       "      <td>3</td>\n",
       "      <td>15Mo</td>\n",
       "      <td>2.0</td>\n",
       "    </tr>\n",
       "    <tr>\n",
       "      <td>4</td>\n",
       "      <td>3Ery</td>\n",
       "      <td>3.0</td>\n",
       "    </tr>\n",
       "  </tbody>\n",
       "</table>\n",
       "</div>"
      ],
      "text/plain": [
       "  paul15_clusters  somecoef\n",
       "0            7MEP       0.0\n",
       "1            15Mo       4.0\n",
       "2            3Ery       2.0\n",
       "3            15Mo       2.0\n",
       "4            3Ery       3.0"
      ]
     },
     "execution_count": 5,
     "metadata": {},
     "output_type": "execute_result"
    }
   ],
   "source": [
    "adata = sc.datasets.paul15()\n",
    "adata.obs['somecoef'] = adata[:, 'Cst3'].X\n",
    "adata.obs.head()"
   ]
  },
  {
   "cell_type": "code",
   "execution_count": 6,
   "metadata": {},
   "outputs": [
    {
     "data": {
      "application/vnd.jupyter.widget-view+json": {
       "model_id": "72b0135513eb4cceab9021b8216a31e9",
       "version_major": 2,
       "version_minor": 0
      },
      "text/plain": [
       "HBox(children=(IntProgress(value=0, max=2), HTML(value='')))"
      ]
     },
     "metadata": {},
     "output_type": "display_data"
    },
    {
     "name": "stdout",
     "output_type": "stream",
     "text": [
      "\n"
     ]
    }
   ],
   "source": [
    "c, a = fit_lme_adata(adata, ['Gata1', 'Gata2'], 'gene ~ somecoef + (1|paul15_clusters)', ['paul15_clusters', 'somecoef'])"
   ]
  },
  {
   "cell_type": "code",
   "execution_count": 7,
   "metadata": {},
   "outputs": [
    {
     "data": {
      "text/html": [
       "<div>\n",
       "<style scoped>\n",
       "    .dataframe tbody tr th:only-of-type {\n",
       "        vertical-align: middle;\n",
       "    }\n",
       "\n",
       "    .dataframe tbody tr th {\n",
       "        vertical-align: top;\n",
       "    }\n",
       "\n",
       "    .dataframe thead th {\n",
       "        text-align: right;\n",
       "    }\n",
       "</style>\n",
       "<table border=\"1\" class=\"dataframe\">\n",
       "  <thead>\n",
       "    <tr style=\"text-align: right;\">\n",
       "      <th></th>\n",
       "      <th>fixed_effect</th>\n",
       "      <th>Estimate</th>\n",
       "      <th>Std. Error</th>\n",
       "      <th>df</th>\n",
       "      <th>t value</th>\n",
       "      <th>Pr(&gt;|t|)</th>\n",
       "      <th>gene</th>\n",
       "    </tr>\n",
       "  </thead>\n",
       "  <tbody>\n",
       "    <tr>\n",
       "      <td>0</td>\n",
       "      <td>(Intercept)</td>\n",
       "      <td>0.661923</td>\n",
       "      <td>0.230020</td>\n",
       "      <td>18.489866</td>\n",
       "      <td>2.877682</td>\n",
       "      <td>0.009826</td>\n",
       "      <td>Gata1</td>\n",
       "    </tr>\n",
       "    <tr>\n",
       "      <td>1</td>\n",
       "      <td>somecoef</td>\n",
       "      <td>0.026600</td>\n",
       "      <td>0.007691</td>\n",
       "      <td>2448.505318</td>\n",
       "      <td>3.458755</td>\n",
       "      <td>0.000552</td>\n",
       "      <td>Gata1</td>\n",
       "    </tr>\n",
       "    <tr>\n",
       "      <td>2</td>\n",
       "      <td>(Intercept)</td>\n",
       "      <td>0.510597</td>\n",
       "      <td>0.132952</td>\n",
       "      <td>18.049205</td>\n",
       "      <td>3.840475</td>\n",
       "      <td>0.001193</td>\n",
       "      <td>Gata2</td>\n",
       "    </tr>\n",
       "    <tr>\n",
       "      <td>3</td>\n",
       "      <td>somecoef</td>\n",
       "      <td>0.001506</td>\n",
       "      <td>0.005124</td>\n",
       "      <td>2221.274718</td>\n",
       "      <td>0.293993</td>\n",
       "      <td>0.768791</td>\n",
       "      <td>Gata2</td>\n",
       "    </tr>\n",
       "  </tbody>\n",
       "</table>\n",
       "</div>"
      ],
      "text/plain": [
       "  fixed_effect  Estimate  Std. Error           df   t value  Pr(>|t|)   gene\n",
       "0  (Intercept)  0.661923    0.230020    18.489866  2.877682  0.009826  Gata1\n",
       "1     somecoef  0.026600    0.007691  2448.505318  3.458755  0.000552  Gata1\n",
       "2  (Intercept)  0.510597    0.132952    18.049205  3.840475  0.001193  Gata2\n",
       "3     somecoef  0.001506    0.005124  2221.274718  0.293993  0.768791  Gata2"
      ]
     },
     "execution_count": 7,
     "metadata": {},
     "output_type": "execute_result"
    }
   ],
   "source": [
    "c"
   ]
  },
  {
   "cell_type": "code",
   "execution_count": 8,
   "metadata": {},
   "outputs": [
    {
     "data": {
      "text/html": [
       "<div>\n",
       "<style scoped>\n",
       "    .dataframe tbody tr th:only-of-type {\n",
       "        vertical-align: middle;\n",
       "    }\n",
       "\n",
       "    .dataframe tbody tr th {\n",
       "        vertical-align: top;\n",
       "    }\n",
       "\n",
       "    .dataframe thead th {\n",
       "        text-align: right;\n",
       "    }\n",
       "</style>\n",
       "<table border=\"1\" class=\"dataframe\">\n",
       "  <thead>\n",
       "    <tr style=\"text-align: right;\">\n",
       "      <th></th>\n",
       "      <th>fixed_effect</th>\n",
       "      <th>Sum Sq</th>\n",
       "      <th>Mean Sq</th>\n",
       "      <th>NumDF</th>\n",
       "      <th>DenDF</th>\n",
       "      <th>F value</th>\n",
       "      <th>Pr(&gt;F)</th>\n",
       "      <th>gene</th>\n",
       "    </tr>\n",
       "  </thead>\n",
       "  <tbody>\n",
       "    <tr>\n",
       "      <td>0</td>\n",
       "      <td>somecoef</td>\n",
       "      <td>16.367020</td>\n",
       "      <td>16.367020</td>\n",
       "      <td>1</td>\n",
       "      <td>2448.505318</td>\n",
       "      <td>11.962988</td>\n",
       "      <td>0.000552</td>\n",
       "      <td>Gata1</td>\n",
       "    </tr>\n",
       "    <tr>\n",
       "      <td>1</td>\n",
       "      <td>somecoef</td>\n",
       "      <td>0.053109</td>\n",
       "      <td>0.053109</td>\n",
       "      <td>1</td>\n",
       "      <td>2221.274718</td>\n",
       "      <td>0.086432</td>\n",
       "      <td>0.768791</td>\n",
       "      <td>Gata2</td>\n",
       "    </tr>\n",
       "  </tbody>\n",
       "</table>\n",
       "</div>"
      ],
      "text/plain": [
       "  fixed_effect     Sum Sq    Mean Sq  NumDF        DenDF    F value    Pr(>F)  \\\n",
       "0     somecoef  16.367020  16.367020      1  2448.505318  11.962988  0.000552   \n",
       "1     somecoef   0.053109   0.053109      1  2221.274718   0.086432  0.768791   \n",
       "\n",
       "    gene  \n",
       "0  Gata1  \n",
       "1  Gata2  "
      ]
     },
     "execution_count": 8,
     "metadata": {},
     "output_type": "execute_result"
    }
   ],
   "source": [
    "a"
   ]
  }
 ],
 "metadata": {
  "kernelspec": {
   "display_name": "Python 3",
   "language": "python",
   "name": "python3"
  },
  "language_info": {
   "codemirror_mode": {
    "name": "ipython",
    "version": 3
   },
   "file_extension": ".py",
   "mimetype": "text/x-python",
   "name": "python",
   "nbconvert_exporter": "python",
   "pygments_lexer": "ipython3",
   "version": "3.7.3"
  }
 },
 "nbformat": 4,
 "nbformat_minor": 4
}
