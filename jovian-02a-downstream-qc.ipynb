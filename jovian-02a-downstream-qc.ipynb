{
 "cells": [
  {
   "cell_type": "markdown",
   "metadata": {},
   "source": [
    "# jovian - 02 Downstream QC"
   ]
  },
  {
   "cell_type": "code",
   "execution_count": null,
   "metadata": {},
   "outputs": [],
   "source": [
    "import scanpy as sc\n",
    "\n",
    "# Plotting\n",
    "import matplotlib\n",
    "import matplotlib.pyplot as plt\n",
    "import matplotlib.ticker as ticker\n",
    "import seaborn as sns\n",
    "\n",
    "# numpy et al.\n",
    "import numpy as np\n",
    "import scipy.sparse as sp\n",
    "import pandas as pd\n",
    "\n",
    "# R integration\n",
    "from rpy2.robjects.packages import importr\n",
    "from rpy2.robjects import pandas2ri\n",
    "import rpy2.robjects.numpy2ri as numpy2ri\n",
    "import anndata2ri\n",
    "\n",
    "numpy2ri.activate()\n",
    "pandas2ri.activate()\n",
    "anndata2ri.activate()\n",
    "\n",
    "from pathlib import Path\n",
    "import math\n",
    "from tqdm.auto import tqdm\n",
    "import warnings\n",
    "import pickle\n",
    "from urllib.request import urlopen\n",
    "import shelve"
   ]
  },
  {
   "cell_type": "code",
   "execution_count": null,
   "metadata": {},
   "outputs": [],
   "source": [
    "%load_ext rpy2.ipython"
   ]
  },
  {
   "cell_type": "code",
   "execution_count": null,
   "metadata": {},
   "outputs": [],
   "source": [
    "sc.set_figure_params(dpi=100, fontsize=12)\n",
    "matplotlib.rcParams['font.sans-serif'] = matplotlib.rcParamsDefault['font.sans-serif']\n",
    "\n",
    "sc.settings.verbosity = 'hint'"
   ]
  },
  {
   "cell_type": "markdown",
   "metadata": {},
   "source": [
    "***"
   ]
  },
  {
   "cell_type": "markdown",
   "metadata": {},
   "source": [
    "## Parameters"
   ]
  },
  {
   "cell_type": "code",
   "execution_count": null,
   "metadata": {},
   "outputs": [],
   "source": [
    "par_cutoff_min_counts = 150\n",
    "par_cutoff_min_genes  = 200\n",
    "par_cutoff_max_genes  = 3500\n",
    "\n",
    "par_species = 'mouse' # mouse or human\n",
    "\n",
    "par_remove_mito_genes = True\n",
    "par_remove_sex_genes = True\n",
    "\n",
    "par_preprocessing_target_sum = 10000\n",
    "par_regress_out_variables = []\n",
    "par_regress_out_n_jobs = 6\n",
    "\n",
    "# downstream parameters\n",
    "par_downstream_n_top_genes = 3000\n",
    "par_downstream_n_pcs = 50\n",
    "par_downstream_n_neighbors = 15\n",
    "par_downstream_louvain_resolution = 1.5\n",
    "par_downstream_neighbor_metric = 'euclidean'\n",
    "\n",
    "par_save_filename_sample = 'adata-sample-%s.h5ad'"
   ]
  },
  {
   "cell_type": "markdown",
   "metadata": {},
   "source": [
    "***"
   ]
  },
  {
   "cell_type": "markdown",
   "metadata": {},
   "source": [
    "## Load session"
   ]
  },
  {
   "cell_type": "code",
   "execution_count": null,
   "metadata": {},
   "outputs": [],
   "source": [
    "with shelve.open('session.pkl', protocol=4, writeback=False) as db:\n",
    "    for k in db.keys():\n",
    "        globals()[k] = db[k]"
   ]
  },
  {
   "cell_type": "code",
   "execution_count": null,
   "metadata": {},
   "outputs": [],
   "source": [
    "conf_samples"
   ]
  },
  {
   "cell_type": "markdown",
   "metadata": {},
   "source": [
    "## Filtering and cell calling"
   ]
  },
  {
   "cell_type": "code",
   "execution_count": null,
   "metadata": {},
   "outputs": [],
   "source": [
    "for k, ad in tqdm(list(conf_samples.items())):\n",
    "    if par_cutoff_min_genes: sc.pp.filter_cells(ad, min_genes=par_cutoff_min_genes)\n",
    "    if par_cutoff_max_genes: sc.pp.filter_cells(ad, max_genes=par_cutoff_max_genes)\n",
    "    if par_cutoff_min_counts: sc.pp.filter_cells(ad, min_counts=par_cutoff_min_counts)\n",
    "\n",
    "    display(ad)"
   ]
  },
  {
   "cell_type": "markdown",
   "metadata": {},
   "source": [
    "## Doublet detection"
   ]
  },
  {
   "cell_type": "code",
   "execution_count": null,
   "metadata": {},
   "outputs": [],
   "source": [
    "import scrublet as scr\n",
    "\n",
    "def run_scrublet(ad):\n",
    "    scrub = scr.Scrublet(ad.X)\n",
    "    doublet_scores, predicted_doublets = scrub.scrub_doublets(verbose=False)\n",
    "\n",
    "    ad.obs['scrublet'] = predicted_doublets\n",
    "    ad.obs['scrublet_score'] = doublet_scores"
   ]
  },
  {
   "cell_type": "code",
   "execution_count": null,
   "metadata": {},
   "outputs": [],
   "source": [
    "for adata in tqdm(list(conf_samples.values())):\n",
    "    run_scrublet(adata)"
   ]
  },
  {
   "cell_type": "markdown",
   "metadata": {},
   "source": [
    "## Predict sex"
   ]
  },
  {
   "cell_type": "code",
   "execution_count": null,
   "metadata": {},
   "outputs": [],
   "source": [
    "conf_xist_gene_name = 'Xist' if par_species == 'mouse' else 'XIST'\n",
    "\n",
    "for adata in tqdm(list(conf_samples.values())):\n",
    "    adata.obs['predicted_sex'] = ['female' if x else 'male' for x in adata.obs_vector(conf_xist_gene_name) > 0]"
   ]
  },
  {
   "cell_type": "markdown",
   "metadata": {},
   "source": [
    "## Highest expression"
   ]
  },
  {
   "cell_type": "code",
   "execution_count": null,
   "metadata": {},
   "outputs": [],
   "source": [
    "f, axs = plt.subplots(conf_plotting_n_rows, conf_plotting_n_cols,\n",
    "                      figsize=(conf_plotting_width, \n",
    "                               conf_plotting_n_rows*conf_plotting_height_per_row), \n",
    "                      sharey=False, sharex=False)\n",
    "axs = axs.flatten()\n",
    "for (sample, adata), ax in zip(list(conf_samples.items()), axs):\n",
    "    sc.pl.highest_expr_genes(adata, ax=ax, show=False, n_top=15);\n",
    "    ax.set_title(sample)\n",
    "    \n",
    "plt.subplots_adjust(wspace=0.6, hspace=0.4)"
   ]
  },
  {
   "cell_type": "markdown",
   "metadata": {},
   "source": [
    "### Exclude mito genes and & sex genes"
   ]
  },
  {
   "cell_type": "code",
   "execution_count": null,
   "metadata": {},
   "outputs": [],
   "source": [
    "if par_remove_mito_genes:\n",
    "    for adata in tqdm(list(conf_samples.values())):\n",
    "        adata._inplace_subset_var(~adata.var_names.str.startswith(par_mt_prefix))\n",
    "        display(adata)"
   ]
  },
  {
   "cell_type": "code",
   "execution_count": null,
   "metadata": {},
   "outputs": [],
   "source": [
    "if par_remove_sex_genes:\n",
    "    from pyannotables import tables\n",
    "    \n",
    "    for sample in tqdm(list(conf_samples.keys())):\n",
    "        genes = tables['mus_musculus-ensembl95-GRCm38'] if par_species == 'mouse' else tables['homo_sapiens-ensembl95-GRCh38']\n",
    "        sex_genes = genes.gene_name[genes.contig.isin(['X', 'Y'])].values\n",
    "\n",
    "        conf_samples[sample] = conf_samples[sample][:, ~conf_samples[sample].var_names.isin(sex_genes)].copy()\n",
    "        display(conf_samples[sample])\n",
    "        \n",
    "    del tables"
   ]
  },
  {
   "cell_type": "code",
   "execution_count": null,
   "metadata": {},
   "outputs": [],
   "source": [
    "f, axs = plt.subplots(conf_plotting_n_rows, conf_plotting_n_cols,\n",
    "                      figsize=(conf_plotting_width, \n",
    "                               conf_plotting_n_rows*conf_plotting_height_per_row), \n",
    "                      sharey=False, sharex=False)\n",
    "axs = axs.flatten()\n",
    "for (sample, adata), ax in zip(list(conf_samples.items()), axs):\n",
    "    sc.pl.highest_expr_genes(adata, ax=ax, show=False, n_top=15);\n",
    "    ax.set_title(sample)\n",
    "    \n",
    "plt.subplots_adjust(wspace=0.6, hspace=0.4)"
   ]
  },
  {
   "cell_type": "markdown",
   "metadata": {},
   "source": [
    "## Normalization and log transform"
   ]
  },
  {
   "cell_type": "code",
   "execution_count": null,
   "metadata": {},
   "outputs": [],
   "source": [
    "for adata in tqdm(list(conf_samples.values())):\n",
    "    adata.layers['counts'] = adata.X.copy()\n",
    "    sc.pp.normalize_total(adata, target_sum=par_preprocessing_target_sum)\n",
    "    sc.pp.log1p(adata)\n",
    "    adata.raw = adata\n",
    "    \n",
    "    display(adata)"
   ]
  },
  {
   "cell_type": "markdown",
   "metadata": {},
   "source": [
    "## Cell cycle scores"
   ]
  },
  {
   "cell_type": "code",
   "execution_count": null,
   "metadata": {},
   "outputs": [],
   "source": [
    "gene_list_url = 'https://raw.githubusercontent.com/theislab/scanpy_usage/master/180209_cell_cycle/data/regev_lab_cell_cycle_genes.txt'\n",
    "\n",
    "if par_species == 'mouse':\n",
    "    cell_cycle_genes = [str(x.strip(), 'utf-8').capitalize() for x in urlopen(gene_list_url)] # capitalize = shame\n",
    "else:\n",
    "    cell_cycle_genes = [str(x.strip(), 'utf-8') for x in urlopen(gene_list_url)]\n",
    "\n",
    "s_genes = cell_cycle_genes[:43]\n",
    "g2m_genes = cell_cycle_genes[43:]\n",
    "\n",
    "for adata in tqdm(list(conf_samples.values())):\n",
    "    sc.tl.score_genes_cell_cycle(adata, s_genes=s_genes, g2m_genes=g2m_genes)"
   ]
  },
  {
   "cell_type": "markdown",
   "metadata": {},
   "source": [
    "## Regress out"
   ]
  },
  {
   "cell_type": "code",
   "execution_count": null,
   "metadata": {},
   "outputs": [],
   "source": [
    "%%time\n",
    "\n",
    "for adata in tqdm(list(conf_samples.values())):\n",
    "    for v in par_regress_out_variables:\n",
    "        sc.pp.regress_out(adata, v)"
   ]
  },
  {
   "cell_type": "markdown",
   "metadata": {},
   "source": [
    "## Downstream"
   ]
  },
  {
   "cell_type": "code",
   "execution_count": null,
   "metadata": {},
   "outputs": [],
   "source": [
    "sc.settings.verbosity = 0\n",
    "\n",
    "for sample, ad in tqdm(list(conf_samples.items())):\n",
    "\n",
    "    assert np.min(ad.X) >= 0.0\n",
    "    ad._inplace_subset_var(ad.X.sum(0).A1 > 0)\n",
    "    ad._inplace_subset_obs(ad.X.sum(1).A1 > 0)\n",
    "\n",
    "    sc.pp.highly_variable_genes(ad, n_top_genes=par_downstream_n_top_genes)\n",
    "\n",
    "    sc.pp.pca(ad, n_comps=par_downstream_n_pcs, svd_solver='arpack')\n",
    "    sc.pp.neighbors(ad, n_neighbors=par_downstream_n_neighbors, metric=par_downstream_neighbor_metric)\n",
    "    sc.tl.umap(ad)\n",
    "    sc.tl.leiden(ad, resolution=par_downstream_louvain_resolution)\n",
    "    sc.tl.diffmap(ad)\n",
    "    \n",
    "    ad._sanitize()"
   ]
  },
  {
   "cell_type": "markdown",
   "metadata": {},
   "source": [
    "# Visualization"
   ]
  },
  {
   "cell_type": "code",
   "execution_count": null,
   "metadata": {},
   "outputs": [],
   "source": [
    "conf_visualize_features = ['log10_n_umis', 'log10_n_genes', 'neg_log10_empty_drops_FDR', \n",
    "                           'mt_frac', '10x_cell_calling', 'predicted_sex',\n",
    "                           'S_score', 'G2M_score', 'phase', 'scrublet']"
   ]
  },
  {
   "cell_type": "code",
   "execution_count": null,
   "metadata": {},
   "outputs": [],
   "source": [
    "%%time\n",
    "\n",
    "from IPython.core.display import display, HTML\n",
    "\n",
    "for sample, ad in tqdm(list(conf_samples.items())):\n",
    "\n",
    "    display(HTML(f'<h1>Sample: {sample}</h1>'))\n",
    "\n",
    "    f, ax = plt.subplots(1, 4, figsize=(20, 4))\n",
    "    sc.pl.scatter(ad, \n",
    "                  x='n_umis',\n",
    "                  y='n_genes', \n",
    "                  color='mt_frac', \n",
    "                  ax=ax[0],\n",
    "                  show=False, \n",
    "                  right_margin=2.85, \n",
    "                  title='Percent mitochondrial UMIs')\n",
    "    ax[0].set_xscale('log')\n",
    "    ax[0].set_yscale('log')\n",
    "\n",
    "    sc.pl.scatter(ad, x='n_umis', y='mt_frac', ax=ax[1], show=False)\n",
    "    ax[1].set_xscale('log')\n",
    "    plt.subplots_adjust(wspace=0.5)\n",
    "\n",
    "    sc.pl.violin(ad, keys='log10_n_umis', groupby='sample_name', rotation=90, ax=ax[2], show=False)\n",
    "    sc.pl.violin(ad, keys='log10_n_umis', groupby='sample_name', rotation=90, ax=ax[3], show=False)\n",
    "    \n",
    "    f, ax = plt.subplots(figsize=(10, 10))\n",
    "    sc.pl.umap(ad, color='leiden', legend_loc='on data', legend_fontoutline=3, legend_fontsize=14, legend_fontweight='normal', title='Clusters', ax=ax, show=False)\n",
    "\n",
    "    sc.pl.umap(ad, color=conf_visualize_features, wspace=0.7, ncols=4)\n",
    "    sc.pl.umap(ad, color='scrublet_score', vmax=0.5, cmap='Reds')\n",
    "\n",
    "    ##### Save\n",
    "    ad.write(par_save_filename_sample % sample)"
   ]
  },
  {
   "cell_type": "markdown",
   "metadata": {},
   "source": [
    "## Serialize the session"
   ]
  },
  {
   "cell_type": "code",
   "execution_count": null,
   "metadata": {},
   "outputs": [],
   "source": [
    "conf_samples_processed = conf_samples\n",
    "del conf_samples"
   ]
  },
  {
   "cell_type": "code",
   "execution_count": null,
   "metadata": {},
   "outputs": [],
   "source": [
    "k = None\n",
    "var = None\n",
    "\n",
    "with shelve.open('session.pkl', protocol=4) as db:\n",
    "    for k, var in globals().items():\n",
    "        if k.startswith('par_') or k.startswith('conf_'):\n",
    "            print(f'Storing {k}...')\n",
    "            db[k] = var\n",
    "db.close()"
   ]
  }
 ],
 "metadata": {
  "kernelspec": {
   "display_name": "Python 3",
   "language": "python",
   "name": "python3"
  },
  "language_info": {
   "codemirror_mode": {
    "name": "ipython",
    "version": 3
   },
   "file_extension": ".py",
   "mimetype": "text/x-python",
   "name": "python",
   "nbconvert_exporter": "python",
   "pygments_lexer": "ipython3",
   "version": "3.7.3"
  }
 },
 "nbformat": 4,
 "nbformat_minor": 4
}
