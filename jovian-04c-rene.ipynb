{
 "cells": [
  {
   "cell_type": "markdown",
   "metadata": {},
   "source": [
    "# jovian - 04 Regulatory Networks"
   ]
  },
  {
   "cell_type": "code",
   "execution_count": null,
   "metadata": {},
   "outputs": [],
   "source": [
    "import scanpy as sc\n",
    "\n",
    "# Plotting\n",
    "import matplotlib\n",
    "import matplotlib.pyplot as plt\n",
    "import matplotlib.ticker as ticker\n",
    "import seaborn as sns\n",
    "\n",
    "# numpy et al.\n",
    "import numpy as np\n",
    "import scipy.sparse as sp\n",
    "import pandas as pd\n",
    "\n",
    "from sklearn.model_selection import GridSearchCV\n",
    "\n",
    "from inverse_covariance import (\n",
    "    QuicGraphicalLasso,\n",
    "    QuicGraphicalLassoCV,\n",
    "    QuicGraphicalLassoEBIC,\n",
    "    AdaptiveGraphicalLasso,\n",
    "    ModelAverage,\n",
    ")\n",
    "\n",
    "# R integration\n",
    "from rpy2.robjects.packages import importr\n",
    "from rpy2.robjects.conversion import localconverter\n",
    "from rpy2.robjects import pandas2ri, numpy2ri\n",
    "from rpy2.robjects.vectors import StrVector, FloatVector, ListVector, IntVector\n",
    "from rpy2.robjects import r\n",
    "import rpy2.robjects as ro\n",
    "import anndata2ri # scipy.sparse + AnnData support\n",
    "\n",
    "numpy2ri.activate()\n",
    "pandas2ri.activate()\n",
    "anndata2ri.activate()"
   ]
  },
  {
   "cell_type": "code",
   "execution_count": null,
   "metadata": {},
   "outputs": [],
   "source": [
    "%load_ext rpy2.ipython"
   ]
  },
  {
   "cell_type": "markdown",
   "metadata": {},
   "source": [
    "## Parameters"
   ]
  },
  {
   "cell_type": "code",
   "execution_count": null,
   "metadata": {},
   "outputs": [],
   "source": [
    "%store -r species\n",
    "%store -r save_filename\n",
    "%store -r save_filename_group"
   ]
  },
  {
   "cell_type": "code",
   "execution_count": null,
   "metadata": {},
   "outputs": [],
   "source": [
    "metric = 'log_likelihood'\n",
    "num_folds = 3\n",
    "n_jobs = 3"
   ]
  },
  {
   "cell_type": "markdown",
   "metadata": {},
   "source": [
    "## Read dataset"
   ]
  },
  {
   "cell_type": "code",
   "execution_count": null,
   "metadata": {},
   "outputs": [],
   "source": [
    "adata = sc.read('adata-brain.h5ad')\n",
    "adata"
   ]
  },
  {
   "cell_type": "code",
   "execution_count": null,
   "metadata": {},
   "outputs": [],
   "source": [
    "sc.pp.highly_variable_genes(adata, n_top_genes=200, subset=True)\n",
    "adata"
   ]
  },
  {
   "cell_type": "code",
   "execution_count": null,
   "metadata": {},
   "outputs": [],
   "source": [
    "sc.pl.highly_variable_genes(adata)"
   ]
  },
  {
   "cell_type": "code",
   "execution_count": null,
   "metadata": {},
   "outputs": [],
   "source": [
    "adata = adata[:2000].copy()\n",
    "adata = adata[:, (adata.X!=0).sum(0).A1 > 20].copy()\n",
    "adata"
   ]
  },
  {
   "cell_type": "markdown",
   "metadata": {},
   "source": [
    "## mgm"
   ]
  },
  {
   "cell_type": "code",
   "execution_count": null,
   "metadata": {},
   "outputs": [],
   "source": [
    "def generate_mgm_input(adata, keys=None, gene_poisson=False):\n",
    "    adata._sanitize()\n",
    "    if keys is None: keys = []\n",
    "\n",
    "    mat = []\n",
    "    nlevels = np.ones((adata.n_vars,)).tolist()\n",
    "    gene_type = 'p' if gene_poisson else 'g'\n",
    "    types = np.repeat(gene_type, adata.n_vars).tolist()\n",
    "\n",
    "    if keys:\n",
    "        obs = adata.obs[keys]\n",
    "\n",
    "        for key in keys:\n",
    "            if obs[key].dtype.name == 'category':\n",
    "                mat.append((obs[key].cat.codes+1).values[:, None])\n",
    "                nlevels.append(len(obs[key].cat.categories))\n",
    "                types.append('c')\n",
    "            else:\n",
    "                mat.append(obs[key].values[:, None])\n",
    "                nlevels.append(1)\n",
    "                types.append('g')\n",
    "    if mat:\n",
    "        mat = np.concatenate(mat, axis=1)\n",
    "        if sp.issparse(adata.X):\n",
    "            mat = sp.hstack([adata.X, sp.coo_matrix(mat)])\n",
    "        else:\n",
    "            mat = np.hstack([adata.X, mat])\n",
    "    else:\n",
    "        mat = adata.X\n",
    "    labels = adata.var_names.tolist() + keys\n",
    "    node_colors = sns.color_palette('tab10', n_colors=len(keys)).as_hex()\n",
    "    \n",
    "    return mat, nlevels, types, labels, (adata.n_vars * ['#ffffff']) + node_colors\n",
    "\n",
    "\n",
    "def fit_mgm(adata, keys=None, gene_poisson=False, lambdaGam=0.5, **kwds):\n",
    "\n",
    "    mat, nlevels, types, labels, node_colors = generate_mgm_input(adata, keys=keys, gene_poisson=gene_poisson)\n",
    "\n",
    "    mgm = importr('mgm')\n",
    "    fit = mgm.mgm(data=r['as.matrix'](mat), \n",
    "                  type=StrVector(types), \n",
    "                  level=IntVector(nlevels), \n",
    "                  saveModels=False,\n",
    "                  lambdaGam=lambdaGam,\n",
    "                  **kwds)\n",
    "    \n",
    "    ret = {}\n",
    "\n",
    "    ret['fit'] = fit\n",
    "    ret['wadj'] = fit.rx2('pairwise').rx2('wadj')\n",
    "    ret['signs'] = fit.rx2('pairwise').rx2('signs')\n",
    "    ret['edge_colors'] = fit.rx2('pairwise').rx2('edgecolor')\n",
    "    ret['node_colors'] = node_colors\n",
    "    ret['node_labels'] = labels\n",
    "    \n",
    "    return ret\n"
   ]
  },
  {
   "cell_type": "code",
   "execution_count": null,
   "metadata": {},
   "outputs": [],
   "source": [
    "mgm = fit_mgm(adata, ['predicted_cell_types'])"
   ]
  },
  {
   "cell_type": "code",
   "execution_count": null,
   "metadata": {},
   "outputs": [],
   "source": [
    "mgm['signs'].flatten()[np.isfinite(mgm['signs'].flatten())]"
   ]
  },
  {
   "cell_type": "code",
   "execution_count": null,
   "metadata": {},
   "outputs": [],
   "source": [
    "import networkx as nx\n",
    "import hvplot.networkx as hvnx\n",
    "import igraph as ig\n",
    "from scanpy._utils import get_igraph_from_adjacency\n",
    "\n",
    "\n",
    "def plot_rene(fit, remove_key_nodes=True, layout='fr', width=1000, height=1000):\n",
    "\n",
    "    adj = fit['wadj']\n",
    "    signs = fit['signs']\n",
    "    node_labels = fit['node_labels']\n",
    "    node_colors = fit['node_colors']\n",
    "    edge_colors = fit['edge_colors']\n",
    "    \n",
    "    n_keys = len(set(node_colors)) - 1\n",
    "    \n",
    "    if remove_key_nodes:\n",
    "        node_labels = node_labels[:-n_keys]\n",
    "        node_colors = ['lightgray' if x else 'white' for x in (adj[-n_keys:, :-n_keys].sum(0) != 0)]\n",
    "        adj = adj[:-n_keys, :-n_keys]\n",
    "        signs = signs[:-n_keys, :-n_keys]\n",
    "\n",
    "    g = get_igraph_from_adjacency(adj, directed=False)\n",
    "    l = {i: v for i, v in enumerate(node_labels)}\n",
    "\n",
    "    G = nx.from_numpy_matrix(adj*10)\n",
    "    \n",
    "    edge_colors = [(signs*adj)[x, y] for x,y in G.edges] \n",
    "    \n",
    "    G = nx.relabel_nodes(G, l)\n",
    "    layout = g.layout(layout)\n",
    "    pos = {i: v for i, v in zip(node_labels, layout)}\n",
    "\n",
    "    return hvnx.draw(G,\n",
    "              pos=pos,\n",
    "              font_size='7pt', \n",
    "              node_size=800,\n",
    "              edge_width='weight',\n",
    "              #edge_cmap='coolwarm',\n",
    "              #edge_color=edge_colors,\n",
    "              node_color=node_colors,\n",
    "              with_labels=True, \n",
    "              width=width,\n",
    "              height=height)    \n",
    "    \n",
    "plot_rene(mgm, remove_key_nodes=True)"
   ]
  },
  {
   "cell_type": "code",
   "execution_count": null,
   "metadata": {},
   "outputs": [],
   "source": [
    "fit = mgm['fit']"
   ]
  },
  {
   "cell_type": "code",
   "execution_count": null,
   "metadata": {},
   "outputs": [],
   "source": [
    "%%R -i labels -i fit -u in -w 10 -h 10 -r 300\n",
    "\n",
    "FactorGraph(fit, labels=unlist(labels), layout='sugiyama', PairwiseAsEdge=T, repulsion=1.3, shapeSizes=c(1, 0.05))"
   ]
  },
  {
   "cell_type": "code",
   "execution_count": null,
   "metadata": {},
   "outputs": [],
   "source": [
    "%%R -i labels -u in -w 20 -h 20 -r 200\n",
    "\n",
    "library(qgraph)\n",
    "\n",
    "ri = rowSums(fit$pairwise$wadj) > 0.1\n",
    "ci = colSums(fit$pairwise$wadj) > 0.1\n",
    "labels = unlist(labels)[ri]\n",
    "\n",
    "qgraph(fit$pairwise$wadj[ri, ci],\n",
    "       edge.color = fit$pairwise$edgecolor[ri, ci],\n",
    "       layout = \"spring\",\n",
    "       repulsion=1.3,\n",
    "       vsize=1,\n",
    "       labels = labels)"
   ]
  },
  {
   "cell_type": "markdown",
   "metadata": {},
   "source": [
    "## qgraph"
   ]
  },
  {
   "cell_type": "code",
   "execution_count": null,
   "metadata": {},
   "outputs": [],
   "source": [
    "%%time\n",
    "%%R -i corr -i labels -i nobs -u in -w 20 -h 20 -r 200\n",
    "\n",
    "library(qgraph)\n",
    "\n",
    "labels = unlist(labels)\n",
    "fit = EBICglasso(corr, n=nobs, gamma=0.25, checkPD=F)\n",
    "qgraph(fit, sampleSize=nobs, layout='spring', labels=labels, repulsion=1.2)\n",
    "#qgraph(corr, graph='pcor', sampleSize=nobs, layout='spring', labels=labels, repulsion=1.2,  minimum='sig', bonf=T)"
   ]
  },
  {
   "cell_type": "markdown",
   "metadata": {},
   "source": [
    "## gLASSO"
   ]
  },
  {
   "cell_type": "code",
   "execution_count": null,
   "metadata": {},
   "outputs": [],
   "source": [
    "%%R -i X -o fit\n",
    "\n",
    "library(CVglasso)\n",
    "library(glasso)\n",
    "\n",
    "fit = CVglasso(X, cores=2, trace=T)\n",
    "\n",
    "plot(fit)"
   ]
  },
  {
   "cell_type": "code",
   "execution_count": null,
   "metadata": {},
   "outputs": [],
   "source": [
    "(wi != 0).sum()"
   ]
  },
  {
   "cell_type": "markdown",
   "metadata": {},
   "source": [
    "## Plot"
   ]
  },
  {
   "cell_type": "code",
   "execution_count": null,
   "metadata": {},
   "outputs": [],
   "source": [
    "from igraph import *"
   ]
  },
  {
   "cell_type": "code",
   "execution_count": null,
   "metadata": {},
   "outputs": [],
   "source": [
    "wi = (wi != 0).astype(float)\n",
    "wi = wi * wi.T\n",
    "np.fill_diagonal(wi, 0)"
   ]
  },
  {
   "cell_type": "code",
   "execution_count": null,
   "metadata": {},
   "outputs": [],
   "source": [
    "idx = wi.sum(1) > 0"
   ]
  },
  {
   "cell_type": "code",
   "execution_count": null,
   "metadata": {},
   "outputs": [],
   "source": [
    "genes = adata.var_names[idx]\n",
    "genes"
   ]
  },
  {
   "cell_type": "code",
   "execution_count": null,
   "metadata": {},
   "outputs": [],
   "source": [
    "wi = wi[np.ix_(idx, idx)]"
   ]
  },
  {
   "cell_type": "code",
   "execution_count": null,
   "metadata": {},
   "outputs": [],
   "source": [
    "g = sc._utils.get_igraph_from_adjacency(wi)"
   ]
  },
  {
   "cell_type": "code",
   "execution_count": null,
   "metadata": {},
   "outputs": [],
   "source": [
    "g.vs['gene'] = genes"
   ]
  },
  {
   "cell_type": "code",
   "execution_count": null,
   "metadata": {},
   "outputs": [],
   "source": [
    "g.layout('fr')"
   ]
  },
  {
   "cell_type": "code",
   "execution_count": null,
   "metadata": {},
   "outputs": [],
   "source": [
    "g.ecount()"
   ]
  },
  {
   "cell_type": "code",
   "execution_count": null,
   "metadata": {},
   "outputs": [],
   "source": []
  },
  {
   "cell_type": "code",
   "execution_count": null,
   "metadata": {},
   "outputs": [],
   "source": [
    "sc.pl.umap(adata, color=['Krt18', 'Dapl1', 'Defb11'], cmap='Reds')"
   ]
  },
  {
   "cell_type": "code",
   "execution_count": null,
   "metadata": {},
   "outputs": [],
   "source": [
    "g.vcount(), g.ecount()"
   ]
  },
  {
   "cell_type": "code",
   "execution_count": null,
   "metadata": {},
   "outputs": [],
   "source": [
    "plot(g, vertex_size=3, edge_width=0.1, vertex_label=g.vs['gene'], vertex_label_size=4, vertex_label_color='blue')"
   ]
  },
  {
   "cell_type": "code",
   "execution_count": null,
   "metadata": {
    "jupyter": {
     "source_hidden": true
    }
   },
   "outputs": [],
   "source": [
    "def _link_cluster_from_adj(A, resolution=1.0, directed=True, seed=0):\n",
    "    from scanpy._utils import get_igraph_from_adjacency\n",
    "    import leidenalg as la\n",
    "        \n",
    "    gi = get_igraph_from_adjacency(A, directed=directed)\n",
    "    print(gi.vcount(), gi.ecount(), flush=True)\n",
    "    \n",
    "    gi_line = gi.linegraph()\n",
    "    print(gi_line.vcount(), gi_line.ecount(), flush=True)\n",
    "    \n",
    "    partition = la.find_partition(gi_line, \n",
    "                                  la.RBConfigurationVertexPartition, \n",
    "                                  resolution_parameter=resolution,\n",
    "                                  seed=seed)\n",
    "\n",
    "    n_clusters = len(set(partition.membership))\n",
    "    print(n_clusters, flush=True)\n",
    "    \n",
    "    node2cluster = {}\n",
    "    for i in trange(gi.ecount()):\n",
    "        e = gi.es[i]\n",
    "        cluster_id = partition.membership[i]\n",
    "\n",
    "        node2cluster.setdefault(e.source, set()).add(cluster_id)\n",
    "        node2cluster.setdefault(e.target, set()).add(cluster_id)\n",
    "\n",
    "    return node2cluster, n_clusters\n",
    "\n",
    "def link_cluster(adata, resolution=1.0, directed=True, bipartite=False, uncertainty=True, seed=0):\n",
    "    \n",
    "    if not bipartite:\n",
    "        A = (adata.uns['neighbors']['connectivities'] != 0).astype(int)\n",
    "    else:\n",
    "        ncells, ngenes = adata.n_obs, adata.n_vars\n",
    "        nnodes = ncells + ngenes\n",
    "        \n",
    "        A = sp.lil_matrix((nnodes, nnodes))\n",
    "        A[:ncells, ncells:] = adata.X\n",
    "        A = A.tocoo().tocsr()\n",
    "\n",
    "    node2cluster, n_clusters = _link_cluster_from_adj(A,\n",
    "                                                      resolution=resolution,\n",
    "                                                      directed=directed,\n",
    "                                                      seed=seed)   \n",
    "    if bipartite:\n",
    "        n2c_cells = {}\n",
    "        n2c_genes = {}\n",
    "\n",
    "        for k, v in node2cluster.items():\n",
    "            if k < adata.n_obs:\n",
    "                n2c_cells[k] = v\n",
    "            else:\n",
    "                n2c_genes[adata.var_names[k-adata.n_obs]] = v\n",
    "                #TODO: store n2c_genes\n",
    "        node2cluster = n2c_cells\n",
    "\n",
    "    for i in range(n_clusters):\n",
    "        if f'cluster_{i}' in adata.obs:\n",
    "            del adata.obs[f'cluster_{i}']\n",
    "        adata.obs[f'cluster_{i}'] = np.zeros(adata.n_obs, dtype=int)\n",
    "    adata.obs[f'link_cluster_uncertainty'] = np.zeros(adata.n_obs, dtype=int)\n",
    "\n",
    "    for k, v in node2cluster.items():\n",
    "        for cluster_id in v:\n",
    "            adata.obs[f'cluster_{cluster_id}'].iloc[k] = 1./len(node2cluster[k]) if uncertainty else 1.\n",
    "        adata.obs[f'link_cluster_uncertainty'].iloc[k] = len(node2cluster[k])\n",
    "        \n",
    "    adata.obs[f'link_cluster_uncertainty'] = np.log10(adata.obs[f'link_cluster_uncertainty'])\n",
    "    \n",
    "    adata.uns['link_cluster'] = dict(n_clusters=n_clusters,\n",
    "                                     cluster_names=[f'cluster_{i}' for i in range(n_clusters)])"
   ]
  }
 ],
 "metadata": {
  "kernelspec": {
   "display_name": "Python 3",
   "language": "python",
   "name": "python3"
  },
  "language_info": {
   "codemirror_mode": {
    "name": "ipython",
    "version": 3
   },
   "file_extension": ".py",
   "mimetype": "text/x-python",
   "name": "python",
   "nbconvert_exporter": "python",
   "pygments_lexer": "ipython3",
   "version": "3.7.3"
  }
 },
 "nbformat": 4,
 "nbformat_minor": 4
}
